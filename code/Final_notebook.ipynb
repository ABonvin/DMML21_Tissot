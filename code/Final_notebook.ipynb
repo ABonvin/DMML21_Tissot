{
 "cells": [
  {
   "cell_type": "markdown",
   "metadata": {
    "id": "8ZKqCFFbNZ04"
   },
   "source": [
    "# Data Mining and Machine Learning - Project\n",
    "\n",
    "## Detecting Difficulty Level of French Texts\n",
    "\n",
    "### Step by step guidelines\n",
    "\n",
    "The following are a set of step by step guidelines to help you get started with your project for the Data Mining and Machine Learning class. \n",
    "\n",
    "#### 1. 📂 Create a public GitHub repository for your team using this naming convention `DMML2021_[your_team_name]` with the following structure:\n",
    "- data (subfolder) \n",
    "- code (subfolder) \n",
    "- documentation (subfolder)\n",
    "- a readme file (.md): *mention team name, participants, brief description of the project, approach and summary of results table.*\n",
    "\n",
    "All team members should contribute to the GitHub repository.\n",
    "\n",
    "#### 2. 🇰 Join the competititon on Kaggle using an invitation link like this one: https://www.kaggle.com/t/69884669004b482c96dd59e5d0c52044 \n",
    "\n",
    "Under the Team tab, save your team name (`UNIL_your_team_name`) and make sure your team members join in as well. You can merge your user account with your teammates in order to create a team.\n",
    "\n",
    "#### 3. 📓 Read the data into your colab notebook. There should be one code notebook per team, but all team members can participate and contribute code. \n",
    "\n",
    "You can use either direct the Kaggle API and your Kaggle credentials (as explained below and **entirely optional**), or dowload the data form Kaggle and upload it onto your team's GitHub repository under the data subfolder.\n",
    "\n",
    "#### 4. 💎 Train your models and upload the code under your team's GitHub repo. Set the `random_state=0`.\n",
    "- baseline\n",
    "- logistic regression with TFidf vectoriser (simple, no data cleaning)\n",
    "- KNN & hyperparameter optimisation (simple, no data cleaning)\n",
    "- Decision Tree classifier & hyperparameter optimisation (simple, no data cleaning)\n",
    "- Random Forests classifier (simple, no data cleaning)\n",
    "- another technique or combination of techniques of your choice\n",
    "\n",
    "#### 5. 🎥 Create a YouTube video (10-15 minutes) of your solution and embed it in your notebook. Explain the algorithms used and the evaluation of your solutions. All projects will also be presented live by the group during the last class.\n",
    "\n",
    "DONE\n",
    "\n",
    "### Submission details (one per team)\n",
    "1. Add the link to your team's GitHub repository here: https://moodle.unil.ch/mod/url/view.php?id=841193\n",
    "\n",
    "2. Download a ZIPped file of your team's repositiory and submit it in Moodle here: https://moodle.unil.ch/mod/assign/view.php?id=1194395\n",
    "\n",
    "3. Post a link to your video in Slack under the project channel.\n",
    "\n",
    "### Grading (one per team)\n",
    "- 5 points presentation\n",
    "- 5 points video \n",
    "- 10 points notebook quality \n",
    "- 10 points your solution"
   ]
  },
  {
   "cell_type": "markdown",
   "metadata": {
    "id": "9-14CAdOoinM"
   },
   "source": [
    "## Some further details for points 3 and 4 above.\n",
    "\n",
    "### 3. Read data into your notebook with the Kaggle API (entirely optional). \n",
    "\n",
    "You can also download the data from Kaggle and put it in your team's repo the data folder."
   ]
  },
  {
   "cell_type": "code",
   "execution_count": 1,
   "metadata": {},
   "outputs": [],
   "source": [
    "import os\n",
    "import sys\n",
    "import get_dataset\n",
    "import pandas as pd\n",
    "import numpy as np\n",
    "import numpy\n",
    "from functs import evaluate, get_score\n",
    "import matplotlib.pyplot as plt\n",
    "import seaborn as sns\n",
    "from sklearn.metrics import confusion_matrix\n",
    "from sklearn.model_selection import train_test_split\n",
    "from sklearn.pipeline import Pipeline\n",
    "from sklearn.feature_extraction.text import TfidfVectorizer\n",
    "from sklearn.linear_model import LogisticRegression\n",
    "from sklearn.feature_extraction.text import CountVectorizer\n",
    "import csv\n",
    "import tensorflow as tf\n",
    "from tensorflow import keras\n",
    "\n",
    "import spacy as spacy\n",
    "from spacy.attrs import LOWER, POS, ENT_TYPE, IS_ALPHA\n",
    "from spacy.tokens import Doc\n",
    "import numpy as np\n",
    "from tqdm import tqdm\n",
    "from gensim.models import word2vec\n",
    "from keras_funct import *\n",
    "import fr_core_news_md\n",
    "np.random.seed = 0\n"
   ]
  },
  {
   "cell_type": "code",
   "execution_count": 2,
   "metadata": {
    "id": "daqvj7feTx60"
   },
   "outputs": [],
   "source": [
    "# read in your training data\n",
    "\n",
    "\n",
    "df = get_dataset.get_train_data()\n",
    "scores=[]\n",
    "matrixes=[]\n"
   ]
  },
  {
   "cell_type": "code",
   "execution_count": 3,
   "metadata": {
    "colab": {
     "base_uri": "https://localhost:8080/",
     "height": 206
    },
    "id": "VxRSnk5bhTp8",
    "outputId": "80616e55-545c-4b80-fd32-99de0b0e4124"
   },
   "outputs": [
    {
     "data": {
      "text/html": [
       "<div>\n",
       "<style scoped>\n",
       "    .dataframe tbody tr th:only-of-type {\n",
       "        vertical-align: middle;\n",
       "    }\n",
       "\n",
       "    .dataframe tbody tr th {\n",
       "        vertical-align: top;\n",
       "    }\n",
       "\n",
       "    .dataframe thead th {\n",
       "        text-align: right;\n",
       "    }\n",
       "</style>\n",
       "<table border=\"1\" class=\"dataframe\">\n",
       "  <thead>\n",
       "    <tr style=\"text-align: right;\">\n",
       "      <th></th>\n",
       "      <th>sentence</th>\n",
       "      <th>difficulty</th>\n",
       "    </tr>\n",
       "  </thead>\n",
       "  <tbody>\n",
       "    <tr>\n",
       "      <th>0</th>\n",
       "      <td>Les coûts kilométriques réels peuvent diverger...</td>\n",
       "      <td>C1</td>\n",
       "    </tr>\n",
       "    <tr>\n",
       "      <th>1</th>\n",
       "      <td>Le bleu, c'est ma couleur préférée mais je n'a...</td>\n",
       "      <td>A1</td>\n",
       "    </tr>\n",
       "    <tr>\n",
       "      <th>2</th>\n",
       "      <td>Le test de niveau en français est sur le site ...</td>\n",
       "      <td>A1</td>\n",
       "    </tr>\n",
       "    <tr>\n",
       "      <th>3</th>\n",
       "      <td>Est-ce que ton mari est aussi de Boston?</td>\n",
       "      <td>A1</td>\n",
       "    </tr>\n",
       "    <tr>\n",
       "      <th>4</th>\n",
       "      <td>Dans les écoles de commerce, dans les couloirs...</td>\n",
       "      <td>B1</td>\n",
       "    </tr>\n",
       "  </tbody>\n",
       "</table>\n",
       "</div>"
      ],
      "text/plain": [
       "                                            sentence difficulty\n",
       "0  Les coûts kilométriques réels peuvent diverger...         C1\n",
       "1  Le bleu, c'est ma couleur préférée mais je n'a...         A1\n",
       "2  Le test de niveau en français est sur le site ...         A1\n",
       "3           Est-ce que ton mari est aussi de Boston?         A1\n",
       "4  Dans les écoles de commerce, dans les couloirs...         B1"
      ]
     },
     "execution_count": 3,
     "metadata": {},
     "output_type": "execute_result"
    }
   ],
   "source": [
    "df.head()"
   ]
  },
  {
   "cell_type": "markdown",
   "metadata": {
    "id": "1kpfbtndj0jL"
   },
   "source": [
    "Have a look at the data on which to make predictions."
   ]
  },
  {
   "cell_type": "code",
   "execution_count": 4,
   "metadata": {
    "colab": {
     "base_uri": "https://localhost:8080/",
     "height": 206
    },
    "id": "7G75Q1gRj49l",
    "outputId": "0fdf7e2a-db10-4cf8-9416-f36f6851a1d2"
   },
   "outputs": [
    {
     "data": {
      "text/html": [
       "<div>\n",
       "<style scoped>\n",
       "    .dataframe tbody tr th:only-of-type {\n",
       "        vertical-align: middle;\n",
       "    }\n",
       "\n",
       "    .dataframe tbody tr th {\n",
       "        vertical-align: top;\n",
       "    }\n",
       "\n",
       "    .dataframe thead th {\n",
       "        text-align: right;\n",
       "    }\n",
       "</style>\n",
       "<table border=\"1\" class=\"dataframe\">\n",
       "  <thead>\n",
       "    <tr style=\"text-align: right;\">\n",
       "      <th></th>\n",
       "      <th>sentence</th>\n",
       "    </tr>\n",
       "  </thead>\n",
       "  <tbody>\n",
       "    <tr>\n",
       "      <th>0</th>\n",
       "      <td>Nous dûmes nous excuser des propos que nous eû...</td>\n",
       "    </tr>\n",
       "    <tr>\n",
       "      <th>1</th>\n",
       "      <td>Vous ne pouvez pas savoir le plaisir que j'ai ...</td>\n",
       "    </tr>\n",
       "    <tr>\n",
       "      <th>2</th>\n",
       "      <td>Et, paradoxalement, boire froid n'est pas la b...</td>\n",
       "    </tr>\n",
       "    <tr>\n",
       "      <th>3</th>\n",
       "      <td>Ce n'est pas étonnant, car c'est une saison my...</td>\n",
       "    </tr>\n",
       "    <tr>\n",
       "      <th>4</th>\n",
       "      <td>Le corps de Golo lui-même, d'une essence aussi...</td>\n",
       "    </tr>\n",
       "  </tbody>\n",
       "</table>\n",
       "</div>"
      ],
      "text/plain": [
       "                                            sentence\n",
       "0  Nous dûmes nous excuser des propos que nous eû...\n",
       "1  Vous ne pouvez pas savoir le plaisir que j'ai ...\n",
       "2  Et, paradoxalement, boire froid n'est pas la b...\n",
       "3  Ce n'est pas étonnant, car c'est une saison my...\n",
       "4  Le corps de Golo lui-même, d'une essence aussi..."
      ]
     },
     "execution_count": 4,
     "metadata": {},
     "output_type": "execute_result"
    }
   ],
   "source": [
    "df_pred = get_dataset.get_unlabelled_data()\n",
    "df_pred.head()"
   ]
  },
  {
   "cell_type": "markdown",
   "metadata": {
    "id": "a37hWJ_ckBlk"
   },
   "source": [
    "And this is the format for your submissions."
   ]
  },
  {
   "cell_type": "code",
   "execution_count": 5,
   "metadata": {
    "colab": {
     "base_uri": "https://localhost:8080/",
     "height": 206
    },
    "id": "gk9H2dLHkFBa",
    "outputId": "e823ec1a-db03-4b6b-ca0c-7f89a93f02a8"
   },
   "outputs": [
    {
     "data": {
      "text/html": [
       "<div>\n",
       "<style scoped>\n",
       "    .dataframe tbody tr th:only-of-type {\n",
       "        vertical-align: middle;\n",
       "    }\n",
       "\n",
       "    .dataframe tbody tr th {\n",
       "        vertical-align: top;\n",
       "    }\n",
       "\n",
       "    .dataframe thead th {\n",
       "        text-align: right;\n",
       "    }\n",
       "</style>\n",
       "<table border=\"1\" class=\"dataframe\">\n",
       "  <thead>\n",
       "    <tr style=\"text-align: right;\">\n",
       "      <th></th>\n",
       "      <th>difficulty</th>\n",
       "    </tr>\n",
       "  </thead>\n",
       "  <tbody>\n",
       "    <tr>\n",
       "      <th>0</th>\n",
       "      <td>A1</td>\n",
       "    </tr>\n",
       "    <tr>\n",
       "      <th>1</th>\n",
       "      <td>A1</td>\n",
       "    </tr>\n",
       "    <tr>\n",
       "      <th>2</th>\n",
       "      <td>A1</td>\n",
       "    </tr>\n",
       "    <tr>\n",
       "      <th>3</th>\n",
       "      <td>A1</td>\n",
       "    </tr>\n",
       "    <tr>\n",
       "      <th>4</th>\n",
       "      <td>A1</td>\n",
       "    </tr>\n",
       "  </tbody>\n",
       "</table>\n",
       "</div>"
      ],
      "text/plain": [
       "  difficulty\n",
       "0         A1\n",
       "1         A1\n",
       "2         A1\n",
       "3         A1\n",
       "4         A1"
      ]
     },
     "execution_count": 5,
     "metadata": {},
     "output_type": "execute_result"
    }
   ],
   "source": [
    "df_example_submission = get_dataset.get_sub_data()\n",
    "df_example_submission.head()"
   ]
  },
  {
   "cell_type": "markdown",
   "metadata": {
    "id": "FfTgL1erjqQ6"
   },
   "source": [
    "### 4. Train your models\n",
    "\n",
    "Set your X and y variables. \n",
    "Set the `random_state=0`\n",
    "Split the data into a train and test set using the following parameters `train_test_split(X, y, test_size=0.2, random_state=0)`.\n",
    "\n",
    "#### 4.1.Baseline\n",
    "What is the baseline for this classification problem? (you can use the highest label frequency from the entire training data, the df above)"
   ]
  },
  {
   "cell_type": "code",
   "execution_count": 6,
   "metadata": {},
   "outputs": [
    {
     "name": "stdout",
     "output_type": "stream",
     "text": [
      "The baseline accuracy is 16.94%\n"
     ]
    }
   ],
   "source": [
    "pred = df.groupby('difficulty').count()\n",
    "baseline_accuracy = pred['sentence'].max()/len(df)\n",
    "print(f'The baseline accuracy is {round(baseline_accuracy*100,2)}%')"
   ]
  },
  {
   "cell_type": "markdown",
   "metadata": {
    "id": "SlvbPYa0k78l"
   },
   "source": [
    "#### 4.2. Logistic Regression (without data cleaning)\n",
    "\n",
    "Train a simple logistic regression model using a Tfidf vectoriser."
   ]
  },
  {
   "cell_type": "code",
   "execution_count": 7,
   "metadata": {
    "id": "t4O_pYiHpiRd"
   },
   "outputs": [],
   "source": [
    "corpus = df['sentence'].tolist()\n",
    "\n",
    "X_train, X_test, y_train, y_test = train_test_split(corpus, df['difficulty'].tolist(),\n",
    "                                                    test_size = 0.2,\n",
    "                                                    random_state = 0)"
   ]
  },
  {
   "cell_type": "code",
   "execution_count": 8,
   "metadata": {
    "id": "eEe3-QNlow4H"
   },
   "outputs": [],
   "source": [
    "pipe = Pipeline([('tfidf', TfidfVectorizer()), ('log_reg', LogisticRegression())])\n",
    "pipe.fit(X_train, y_train)\n",
    "\n",
    "pred = pipe.predict(X_test)"
   ]
  },
  {
   "cell_type": "markdown",
   "metadata": {
    "id": "bZ-qO8C5oyov"
   },
   "source": [
    "Calculate accuracy, precision, recall and F1 score on the test set."
   ]
  },
  {
   "cell_type": "code",
   "execution_count": 9,
   "metadata": {
    "id": "PViIQdnDpASy"
   },
   "outputs": [
    {
     "name": "stdout",
     "output_type": "stream",
     "text": [
      "AxesSubplot(0.125,0.125;0.62x0.755)\n",
      "ACCURACY SCORE:\n",
      "0.4667\n",
      "CLASSIFICATION REPORT:\n",
      "\tPrecision: 0.4645\n",
      "\tRecall: 0.4677\n",
      "\tF1_Score: 0.4640\n"
     ]
    },
    {
     "data": {
      "image/png": "[encoded data removed]",
      "text/plain": [
       "<Figure size 432x288 with 3 Axes>"
      ]
     },
     "metadata": {
      "needs_background": "light"
     },
     "output_type": "display_data"
    }
   ],
   "source": [
    "evaluate(y_test, pred)\n",
    "score, matrix = get_score(y_test, pred, \"Logisitc Regression\")\n",
    "\n",
    "scores.append(score)\n",
    "matrixes.append(matrixes)"
   ]
  },
  {
   "cell_type": "markdown",
   "metadata": {
    "id": "9D3_dp3apcmr"
   },
   "source": [
    "Have a look at the confusion matrix and identify a few examples of sentences that are not well classified."
   ]
  },
  {
   "cell_type": "code",
   "execution_count": 10,
   "metadata": {},
   "outputs": [
    {
     "data": {
      "text/html": [
       "<div>\n",
       "<style scoped>\n",
       "    .dataframe tbody tr th:only-of-type {\n",
       "        vertical-align: middle;\n",
       "    }\n",
       "\n",
       "    .dataframe tbody tr th {\n",
       "        vertical-align: top;\n",
       "    }\n",
       "\n",
       "    .dataframe thead th {\n",
       "        text-align: right;\n",
       "    }\n",
       "</style>\n",
       "<table border=\"1\" class=\"dataframe\">\n",
       "  <thead>\n",
       "    <tr style=\"text-align: right;\">\n",
       "      <th></th>\n",
       "      <th>sentence</th>\n",
       "      <th>true</th>\n",
       "      <th>pred</th>\n",
       "    </tr>\n",
       "  </thead>\n",
       "  <tbody>\n",
       "    <tr>\n",
       "      <th>0</th>\n",
       "      <td>C'est en décembre 1967, après bien des invecti...</td>\n",
       "      <td>C1</td>\n",
       "      <td>C2</td>\n",
       "    </tr>\n",
       "    <tr>\n",
       "      <th>1</th>\n",
       "      <td>Giscard va pourtant réussir à transformer ce r...</td>\n",
       "      <td>C1</td>\n",
       "      <td>B2</td>\n",
       "    </tr>\n",
       "    <tr>\n",
       "      <th>2</th>\n",
       "      <td>Un choix difficile mais important : le public ...</td>\n",
       "      <td>A2</td>\n",
       "      <td>B1</td>\n",
       "    </tr>\n",
       "    <tr>\n",
       "      <th>3</th>\n",
       "      <td>Le débat porte plutôt sur l'utilité d'une tell...</td>\n",
       "      <td>B1</td>\n",
       "      <td>C1</td>\n",
       "    </tr>\n",
       "    <tr>\n",
       "      <th>6</th>\n",
       "      <td>Il faut du temps et du courage pour soigner to...</td>\n",
       "      <td>A2</td>\n",
       "      <td>B1</td>\n",
       "    </tr>\n",
       "  </tbody>\n",
       "</table>\n",
       "</div>"
      ],
      "text/plain": [
       "                                            sentence true pred\n",
       "0  C'est en décembre 1967, après bien des invecti...   C1   C2\n",
       "1  Giscard va pourtant réussir à transformer ce r...   C1   B2\n",
       "2  Un choix difficile mais important : le public ...   A2   B1\n",
       "3  Le débat porte plutôt sur l'utilité d'une tell...   B1   C1\n",
       "6  Il faut du temps et du courage pour soigner to...   A2   B1"
      ]
     },
     "execution_count": 10,
     "metadata": {},
     "output_type": "execute_result"
    }
   ],
   "source": [
    "examples=pd.DataFrame(X_test, columns=[\"sentence\"])\n",
    "examples[\"true\"]=y_test\n",
    "examples[\"pred\"]=pred\n",
    "examples = examples[examples[\"true\"] != examples[\"pred\"]]\n",
    "\n",
    "examples.head()\n"
   ]
  },
  {
   "cell_type": "code",
   "execution_count": 11,
   "metadata": {},
   "outputs": [],
   "source": [
    "log_reg = pd.DataFrame(pred, columns=['difficulty'])\n",
    "log_reg.to_csv('log_reg_pred.csv')"
   ]
  },
  {
   "cell_type": "markdown",
   "metadata": {
    "id": "9TTEiuXasNFg"
   },
   "source": [
    "Generate your first predictions on the `unlabelled_test_data.csv`. make sure your predictions match the format of the `unlabelled_test_data.csv`."
   ]
  },
  {
   "cell_type": "markdown",
   "metadata": {
    "id": "vXG_yIG_pQ8t"
   },
   "source": [
    "#### 4.3. KNN (without data cleaning)\n",
    "\n",
    "Train a KNN classification model using a Tfidf vectoriser. Show the accuracy, precision, recall and F1 score on the test set."
   ]
  },
  {
   "cell_type": "code",
   "execution_count": 12,
   "metadata": {
    "id": "GPRjD1rSqKKZ"
   },
   "outputs": [
    {
     "name": "stdout",
     "output_type": "stream",
     "text": [
      "AxesSubplot(0.125,0.125;0.62x0.755)\n",
      "ACCURACY SCORE:\n",
      "0.3187\n",
      "CLASSIFICATION REPORT:\n",
      "\tPrecision: 0.4007\n",
      "\tRecall: 0.3183\n",
      "\tF1_Score: 0.3022\n"
     ]
    },
    {
     "data": {
      "image/png": "[encoded data removed]",
      "text/plain": [
       "<Figure size 432x288 with 2 Axes>"
      ]
     },
     "metadata": {
      "needs_background": "light"
     },
     "output_type": "display_data"
    }
   ],
   "source": [
    "from sklearn.model_selection import GridSearchCV\n",
    "from sklearn.neighbors import KNeighborsClassifier\n",
    "\n",
    "KNN = KNeighborsClassifier()\n",
    "pipe = Pipeline([('tfidf', TfidfVectorizer()), ('KNN', KNN)])\n",
    "\n",
    "pipe.fit(X_train, y_train)\n",
    "pred = pipe.predict(X_test)\n",
    "evaluate(y_test, pred)\n"
   ]
  },
  {
   "cell_type": "markdown",
   "metadata": {
    "id": "D6rH2Hx0qtB2"
   },
   "source": [
    "Try to improve it by tuning the hyper parameters (`n_neighbors`,   `p`, `weights`)."
   ]
  },
  {
   "cell_type": "code",
   "execution_count": 13,
   "metadata": {},
   "outputs": [
    {
     "name": "stdout",
     "output_type": "stream",
     "text": [
      "Best hyperparameters: {'n_neighbors': 11, 'p': 2, 'weights': 'distance'}\n",
      "AxesSubplot(0.125,0.125;0.62x0.755)\n",
      "ACCURACY SCORE:\n",
      "0.3542\n",
      "CLASSIFICATION REPORT:\n",
      "\tPrecision: 0.4197\n",
      "\tRecall: 0.3543\n",
      "\tF1_Score: 0.3450\n"
     ]
    },
    {
     "data": {
      "image/png": "[encoded data removed]",
      "text/plain": [
       "<Figure size 432x288 with 3 Axes>"
      ]
     },
     "metadata": {
      "needs_background": "light"
     },
     "output_type": "display_data"
    }
   ],
   "source": [
    "from sklearn.model_selection import GridSearchCV\n",
    "from sklearn.neighbors import KNeighborsClassifier\n",
    "\n",
    "knn_grid = {'n_neighbors' : np.arange(1,500,5),\n",
    "            'p': np.arange(1,3),\n",
    "            'weights' : ['uniform', 'distance']}\n",
    "\n",
    "KNN = KNeighborsClassifier()\n",
    "KNN_CV = GridSearchCV(KNN, knn_grid, cv = 5)\n",
    "pipe = Pipeline([('tfidf', TfidfVectorizer()), ('KNN', KNN_CV)])\n",
    "\n",
    "pipe.fit(X_train, y_train)\n",
    "print('Best hyperparameters:', KNN_CV.best_params_)\n",
    "pred = pipe.predict(X_test)\n",
    "\n",
    "\n",
    "\n",
    "evaluate(y_test, pred)\n",
    "score, matrix = get_score(y_test, pred, \"KNN\")\n",
    "\n",
    "scores.append(score)\n",
    "matrixes.append(matrixes)"
   ]
  },
  {
   "cell_type": "markdown",
   "metadata": {
    "id": "FFNH1WgNqc62"
   },
   "source": [
    "#### 4.4. Decision Tree Classifier (without data cleaning)\n",
    "\n",
    "Train a Decison Tree classifier, using a Tfidf vectoriser. Show the accuracy, precision, recall and F1 score on the test set."
   ]
  },
  {
   "cell_type": "code",
   "execution_count": 14,
   "metadata": {
    "id": "d4PByPdGq0FV"
   },
   "outputs": [
    {
     "name": "stdout",
     "output_type": "stream",
     "text": [
      "AxesSubplot(0.125,0.125;0.62x0.755)\n",
      "ACCURACY SCORE:\n",
      "0.3000\n",
      "CLASSIFICATION REPORT:\n",
      "\tPrecision: 0.2979\n",
      "\tRecall: 0.3009\n",
      "\tF1_Score: 0.2963\n"
     ]
    },
    {
     "data": {
      "image/png": "[encoded data removed]",
      "text/plain": [
       "<Figure size 432x288 with 2 Axes>"
      ]
     },
     "metadata": {
      "needs_background": "light"
     },
     "output_type": "display_data"
    }
   ],
   "source": [
    "from sklearn.tree import DecisionTreeClassifier\n",
    "\n",
    "pipe = Pipeline([('tfidf', TfidfVectorizer()), ('decision_tree', DecisionTreeClassifier())])\n",
    "pipe.fit(X_train, y_train)\n",
    "\n",
    "pred = pipe.predict(X_test)\n",
    "evaluate(y_test, pred)"
   ]
  },
  {
   "cell_type": "markdown",
   "metadata": {
    "id": "yQHjvOp7q11L"
   },
   "source": [
    "Try to improve it by tuning the hyper parameters (`max_depth`, the depth of the decision tree)."
   ]
  },
  {
   "cell_type": "code",
   "execution_count": 15,
   "metadata": {
    "id": "x1Fzl5BUq8JN"
   },
   "outputs": [
    {
     "name": "stdout",
     "output_type": "stream",
     "text": [
      "Hyperparameters: {'max_depth': 855}\n",
      "AxesSubplot(0.125,0.125;0.62x0.755)\n",
      "ACCURACY SCORE:\n",
      "0.2823\n",
      "CLASSIFICATION REPORT:\n",
      "\tPrecision: 0.2858\n",
      "\tRecall: 0.2829\n",
      "\tF1_Score: 0.2812\n"
     ]
    },
    {
     "data": {
      "image/png": "[encoded data removed]",
      "text/plain": [
       "<Figure size 432x288 with 3 Axes>"
      ]
     },
     "metadata": {
      "needs_background": "light"
     },
     "output_type": "display_data"
    }
   ],
   "source": [
    "grid_tree = {'max_depth': np.arange(5,1000, 50)}\n",
    "\n",
    "dec_tree = DecisionTreeClassifier()\n",
    "dec_tree_CV = GridSearchCV(dec_tree, grid_tree, cv = 5)\n",
    "pipe = Pipeline([('tfidf', TfidfVectorizer()), ('decision_tree_CV', dec_tree_CV)])\n",
    "\n",
    "pipe.fit(X_train, y_train)\n",
    "pred = pipe.predict(X_test)\n",
    "print(\"Hyperparameters:\", dec_tree_CV.best_params_)\n",
    "evaluate(y_test, pred)\n",
    "\n",
    "score, matrix = get_score(y_test, pred, \"Decision Tree\")\n",
    "\n",
    "scores.append(score)\n",
    "matrixes.append(matrixes)"
   ]
  },
  {
   "cell_type": "markdown",
   "metadata": {
    "id": "M52Ys3hcq7ku"
   },
   "source": [
    "#### 4.5. Random Forest Classifier (without data cleaning)\n",
    "\n",
    "Try a Random Forest Classifier, using a Tfidf vectoriser. Show the accuracy, precision, recall and F1 score on the test set."
   ]
  },
  {
   "cell_type": "code",
   "execution_count": 16,
   "metadata": {
    "id": "sssF4NIGrNLa"
   },
   "outputs": [
    {
     "name": "stdout",
     "output_type": "stream",
     "text": [
      "AxesSubplot(0.125,0.125;0.62x0.755)\n",
      "ACCURACY SCORE:\n",
      "0.4208\n",
      "CLASSIFICATION REPORT:\n",
      "\tPrecision: 0.4350\n",
      "\tRecall: 0.4230\n",
      "\tF1_Score: 0.4118\n"
     ]
    },
    {
     "data": {
      "image/png": "[encoded data removed]",
      "text/plain": [
       "<Figure size 432x288 with 3 Axes>"
      ]
     },
     "metadata": {
      "needs_background": "light"
     },
     "output_type": "display_data"
    }
   ],
   "source": [
    "from sklearn.ensemble import RandomForestClassifier\n",
    "random_forest_classifier = RandomForestClassifier()\n",
    "pipe = Pipeline([('tfidf', TfidfVectorizer()), ('random_forest_clf', random_forest_classifier)])\n",
    "pipe.fit(X_train, y_train)\n",
    "pred = pipe.predict(X_test)\n",
    "evaluate(y_test, pred)\n",
    "\n",
    "score, matrix = get_score(y_test, pred, \"Random Forest\")\n",
    "\n",
    "scores.append(score)\n",
    "matrixes.append(matrixes)"
   ]
  },
  {
   "cell_type": "markdown",
   "metadata": {
    "id": "z-8_3MK1rpZr"
   },
   "source": [
    "#### 4.6. Any other technique, including data cleaning if necessary\n",
    "\n",
    "Try to improve accuracy by training a better model using the techniques seen in class, or combinations of them.\n",
    "\n",
    "As usual, show the accuracy, precision, recall and f1 score on the test set."
   ]
  },
  {
   "cell_type": "markdown",
   "metadata": {
    "id": "z-8_3MK1rpZr"
   },
   "source": [
    "The classifier we chose for this challenge is the Keras neural classifier from the Keras library. While begin extremely powerful and evolutive, this classifier is using the keras API which is a very high level deep learning API and a good entry point for newbies in the field (very much like us). We did not have time to dig too deep into this API but we managed to get some pretty good results from this classifier.\n",
    "\n",
    "Our classifier uses layers of neurons in a sequential fashion. This basically help us break dwon a very complex math problems (the classification of difficulties) into smaller equations to be able to process it. We used only a single\n",
    "\n",
    "\n",
    "The first thing we have to do is to import all of the data from the train set."
   ]
  },
  {
   "cell_type": "code",
   "execution_count": 17,
   "metadata": {
    "id": "wX5AjvvKr_nW"
   },
   "outputs": [],
   "source": [
    "data = get_dataset.get_train_data()"
   ]
  },
  {
   "cell_type": "markdown",
   "metadata": {
    "id": "z-8_3MK1rpZr"
   },
   "source": [
    "Now we create the features of our classifier. Those are the following:\n",
    "\n",
    "--------------------------------------------------------------------------------------------------------------------------\n",
    "\n",
    "**type_counter(data)**\n",
    "\n",
    "This feature counts the number of occurences of each type ow word in a given sentence (nouns, pronouns, ...) and assigns it the difficulty of the sentence.\n",
    "\n",
    "---------------------------------------------------------------------------------------------------------------------------\n",
    "\n",
    "**vectorizer(data)**\n",
    "\n",
    "This is a spacy vectorizer which tokenizes each sentence and creates a vectorized representation of those tokens. This vectorizer is more precise than the sk_vec and has more features\n",
    "\n",
    "---------------------------------------------------------------------------------------------------------------------------\n",
    "\n",
    "**sk_vec(data)**\n",
    "\n",
    "This is the sklearn vectorizer. It transforms words into simple vectors. We alos used this vectorizer to process bi-grams\n",
    "\n",
    "---------------------------------------------------------------------------------------------------------------------------\n",
    "\n",
    "**word_len_counter(data)**\n",
    "\n",
    "This features is a counter of length for both words and sentences. We assume that simpler sentences are usually shorter while longer phrases are usually way longer and have longer words.\n",
    "\n",
    "---------------------------------------------------------------------------------------------------------------------------\n",
    "\n",
    "\n",
    "\n",
    "\n",
    "We also use several other functions which are:\n",
    "\n",
    "**prepare_output(data)**\n",
    "\n",
    "This function process the input data and transforms it into usable data for the classifier (mapping the difficulties into either a label encoding or a 1-hot-encoding)\n",
    "\n",
    "----------------------------------------------------------------------------------------------------------------------------\n",
    "\n",
    "\n",
    "**get_score(true, pred, classifier_name)**\n",
    "\n",
    "Just so we can create a table with all the results (see code for more info)\n",
    "\n",
    "----------------------------------------------------------------------------------------------------------------------------\n",
    "\n",
    "\n",
    "We also used a filter we found on stackoverflow (**remove_tokens_on_match(doc)**) to remove specific types of words from our data. After manual observation on the badly predicted sentences, we saw that a lot of B2 sentences were wrong compared to other difficulties, but also that a lot of sentences with proper nouns we not predicted correctly. We filtered both the punctuation and the proper nouns from our dataset, and the issue resolved itslef (there were approximatly 30% more B2 phrases that were badly estimated before we used the filter)\n",
    "\n",
    "After all the testing, we lastly implemented the bigram feature, which increased our accuracy by nearly 10%. Bigger Ngrams were ineffective and even decreased precision\n",
    "\n",
    "\n",
    "Since those features all have the same column length, we are able to aggregate them into one feature to pass it to the classifier.\n",
    "\n",
    "*More info on all the fucntions can be found in the .py corresponding file*\n",
    "\n",
    "\n",
    "**Important notes:**\n",
    "\n",
    "- We did not remove stopwords because sentences were sometimes too short (especially A1 sentences). We tested it and accuracy was always marginally lower\n",
    "- We tried a number of features combination but the best results were always the full combination of the 4 features implemented.\n",
    "- Since the processing of those models is rather power hungry in terms of ressources, we could not test the full potential of the model. All the testing was done manually when it came to hyperparamters.\n",
    "- The features for our model are not well fitted to be used with the other classifiers.\n",
    "- We sometimes use \"unlabelled\" functions. Those are relevant for the final prediction because we use 2 different dataset (one for fitting and one for predicting) and not a single one splitted into 2 to fit and transform.\n"
   ]
  },
  {
   "cell_type": "code",
   "execution_count": 18,
   "metadata": {},
   "outputs": [
    {
     "name": "stdout",
     "output_type": "stream",
     "text": [
      "Feature 1 is done computing\n",
      "Feature 2 is done computing\n",
      "Feature 3 is done computing\n",
      "Feature 4 is done computing\n",
      "Features ready to be used\n"
     ]
    }
   ],
   "source": [
    "feature1 = type_counter(data)\n",
    "print(\"Feature 1 is done computing\")\n",
    "feature2 = vectorizer(data)\n",
    "print(\"Feature 2 is done computing\")\n",
    "feature3 = word_len_counter(data)\n",
    "print(\"Feature 3 is done computing\")\n",
    "feature4 = sk_vec(data)\n",
    "print(\"Feature 4 is done computing\")\n",
    "feature = np.concatenate((feature1, feature2),axis = 1)\n",
    "feature = np.concatenate((feature, feature3), axis = 1)\n",
    "feature = np.concatenate((feature, feature4), axis = 1)\n",
    "\n",
    "print(\"Features ready to be used\")"
   ]
  },
  {
   "cell_type": "code",
   "execution_count": 19,
   "metadata": {},
   "outputs": [
    {
     "name": "stdout",
     "output_type": "stream",
     "text": [
      "Data ready to be used\n"
     ]
    }
   ],
   "source": [
    "y1, y2 = prepare_output(data)\n",
    "print(\"Data ready to be used\")"
   ]
  },
  {
   "cell_type": "code",
   "execution_count": 20,
   "metadata": {},
   "outputs": [
    {
     "name": "stdout",
     "output_type": "stream",
     "text": [
      "Data has been split\n"
     ]
    }
   ],
   "source": [
    "#X_train\n",
    "feature_train = np.array(feature[:4000])\n",
    "\n",
    "#y_train\n",
    "y2_train = np.asarray(y2[:4000])\n",
    "y1_train = np.asarray(y1[:4000])\n",
    "\n",
    "#X_test\n",
    "feature_test = np.array(feature[4000:])\n",
    "\n",
    "#y_test\n",
    "y2_test = np.asarray(y2[4000:])\n",
    "y1_test = np.asarray(y1[4000:])\n",
    "\n",
    "print(\"Data has been split\")"
   ]
  },
  {
   "cell_type": "markdown",
   "metadata": {
    "id": "z-8_3MK1rpZr"
   },
   "source": [
    "The sequential model from keras is made of linear stacks of layers of neurons connected to eachother by what are called snyapses. Neurons receive inputs, then compute the input into an output and transmit the output to another neuron through the synapse.  Those synapses each have a weight, which represents it's impact on the final computation of the input. Basically, if you input data to those neurons layers, they will break down an extensive and complicated input into a single output.\n",
    "\n",
    "We only use basic keras layers which are the Dense layers (standards neural layers) and the dropout layers (they deactivate a percentage of the synapses to prevent overfit). Each layer must be defined by a number of neurons (units) and an activator (\n",
    "\n",
    "To create a model, we have to specify the input shape of the data (only on the first layer), the number of neurons in the layer and the activator (takes the output and convert it into a form that is readable by the next layer)\n",
    "\n",
    "To fit the model, we also have to set an optimizer (we use Adamax, basically a gradient descent) and a loss function."
   ]
  },
  {
   "cell_type": "markdown",
   "metadata": {
    "id": "z-8_3MK1rpZr"
   },
   "source": [
    "The outpout of our model is formed based on the probability of each sentence begin in class.\n",
    "For example, if my model outputs those prababilites :[0.1, 0.1, 0.2, 0.5], it means that my sentence has a 10% chance to be in the class 0, 10% chance to be in the class 1, 20% chance to be in the class and 50% chance to be in the class 0. This means we have to get the highest probable class and keep it as the predicted class for the sentence.\n",
    "\n",
    "Then, just so we can read the data, we have to convert it back from label to difficulties. with:\n",
    "\n",
    "*reverse={0:\"A1\", 1:\"A2\", 2:\"B1\",3:\"B2\",4:\"C1\", 5:\"C2\"}*\n"
   ]
  },
  {
   "cell_type": "code",
   "execution_count": 21,
   "metadata": {
    "scrolled": true
   },
   "outputs": [
    {
     "name": "stdout",
     "output_type": "stream",
     "text": [
      "Model: \"sequential\"\n",
      "_________________________________________________________________\n",
      " Layer (type)                Output Shape              Param #   \n",
      "=================================================================\n",
      " dense (Dense)               (None, 32)                2171264   \n",
      "                                                                 \n",
      " dropout (Dropout)           (None, 32)                0         \n",
      "                                                                 \n",
      " dense_1 (Dense)             (None, 6)                 198       \n",
      "                                                                 \n",
      "=================================================================\n",
      "Total params: 2,171,462\n",
      "Trainable params: 2,171,462\n",
      "Non-trainable params: 0\n",
      "_________________________________________________________________\n",
      "None\n",
      "Epoch 1/75\n",
      "500/500 [==============================] - 4s 8ms/step - loss: 1.5874 - accuracy: 0.3075 - val_loss: 1.4573 - val_accuracy: 0.3750\n",
      "Epoch 2/75\n",
      "500/500 [==============================] - 4s 8ms/step - loss: 1.4909 - accuracy: 0.3473 - val_loss: 1.3683 - val_accuracy: 0.4000\n",
      "Epoch 3/75\n",
      "500/500 [==============================] - 4s 8ms/step - loss: 1.4297 - accuracy: 0.3670 - val_loss: 1.3198 - val_accuracy: 0.3750\n",
      "Epoch 4/75\n",
      "500/500 [==============================] - 4s 8ms/step - loss: 1.3835 - accuracy: 0.3980 - val_loss: 1.3166 - val_accuracy: 0.3500\n",
      "Epoch 5/75\n",
      "500/500 [==============================] - 4s 8ms/step - loss: 1.3517 - accuracy: 0.4040 - val_loss: 1.2675 - val_accuracy: 0.4000\n",
      "Epoch 6/75\n",
      "500/500 [==============================] - 4s 8ms/step - loss: 1.3221 - accuracy: 0.4297 - val_loss: 1.2954 - val_accuracy: 0.3250\n",
      "Epoch 7/75\n",
      "500/500 [==============================] - 4s 8ms/step - loss: 1.2897 - accuracy: 0.4365 - val_loss: 1.2415 - val_accuracy: 0.4000\n",
      "Epoch 8/75\n",
      "500/500 [==============================] - 4s 8ms/step - loss: 1.2619 - accuracy: 0.4588 - val_loss: 1.2277 - val_accuracy: 0.4500\n",
      "Epoch 9/75\n",
      "500/500 [==============================] - 4s 8ms/step - loss: 1.2464 - accuracy: 0.4595 - val_loss: 1.2303 - val_accuracy: 0.4000\n",
      "Epoch 10/75\n",
      "500/500 [==============================] - 4s 8ms/step - loss: 1.2217 - accuracy: 0.4723 - val_loss: 1.1992 - val_accuracy: 0.4250\n",
      "Epoch 11/75\n",
      "500/500 [==============================] - 4s 8ms/step - loss: 1.1972 - accuracy: 0.4765 - val_loss: 1.2221 - val_accuracy: 0.4000\n",
      "Epoch 12/75\n",
      "500/500 [==============================] - 4s 8ms/step - loss: 1.1758 - accuracy: 0.4865 - val_loss: 1.2041 - val_accuracy: 0.4000\n",
      "Epoch 13/75\n",
      "500/500 [==============================] - 4s 8ms/step - loss: 1.1577 - accuracy: 0.4960 - val_loss: 1.1526 - val_accuracy: 0.4750\n",
      "Epoch 14/75\n",
      "500/500 [==============================] - 4s 8ms/step - loss: 1.1470 - accuracy: 0.5170 - val_loss: 1.1818 - val_accuracy: 0.4250\n",
      "Epoch 15/75\n",
      "500/500 [==============================] - 4s 8ms/step - loss: 1.1269 - accuracy: 0.5245 - val_loss: 1.1862 - val_accuracy: 0.3500\n",
      "Epoch 16/75\n",
      "500/500 [==============================] - 4s 8ms/step - loss: 1.1161 - accuracy: 0.5255 - val_loss: 1.1205 - val_accuracy: 0.3750\n",
      "Epoch 17/75\n",
      "500/500 [==============================] - 4s 8ms/step - loss: 1.0822 - accuracy: 0.5355 - val_loss: 1.1699 - val_accuracy: 0.4250\n",
      "Epoch 18/75\n",
      "500/500 [==============================] - 4s 8ms/step - loss: 1.0704 - accuracy: 0.5490 - val_loss: 1.1313 - val_accuracy: 0.3500\n",
      "Epoch 19/75\n",
      "500/500 [==============================] - 4s 8ms/step - loss: 1.0312 - accuracy: 0.5640 - val_loss: 1.1509 - val_accuracy: 0.4500\n",
      "Epoch 20/75\n",
      "500/500 [==============================] - 4s 8ms/step - loss: 1.0199 - accuracy: 0.5702 - val_loss: 1.0887 - val_accuracy: 0.4750\n",
      "Epoch 21/75\n",
      "500/500 [==============================] - 4s 8ms/step - loss: 1.0026 - accuracy: 0.5820 - val_loss: 1.0934 - val_accuracy: 0.4500\n",
      "Epoch 22/75\n",
      "500/500 [==============================] - 4s 8ms/step - loss: 0.9932 - accuracy: 0.5882 - val_loss: 1.1333 - val_accuracy: 0.4500\n",
      "Epoch 23/75\n",
      "500/500 [==============================] - 4s 8ms/step - loss: 0.9755 - accuracy: 0.5990 - val_loss: 1.0794 - val_accuracy: 0.4250\n",
      "Epoch 24/75\n",
      "500/500 [==============================] - 4s 8ms/step - loss: 0.9489 - accuracy: 0.6158 - val_loss: 1.0593 - val_accuracy: 0.5000\n",
      "Epoch 25/75\n",
      "500/500 [==============================] - 4s 8ms/step - loss: 0.9358 - accuracy: 0.6170 - val_loss: 1.1511 - val_accuracy: 0.4500\n",
      "Epoch 26/75\n",
      "500/500 [==============================] - 4s 8ms/step - loss: 0.9094 - accuracy: 0.6325 - val_loss: 1.0986 - val_accuracy: 0.5000\n",
      "Epoch 27/75\n",
      "500/500 [==============================] - 4s 8ms/step - loss: 0.8965 - accuracy: 0.6345 - val_loss: 0.9900 - val_accuracy: 0.5000\n",
      "Epoch 28/75\n",
      "500/500 [==============================] - 4s 8ms/step - loss: 0.8752 - accuracy: 0.6450 - val_loss: 1.0790 - val_accuracy: 0.5250\n",
      "Epoch 29/75\n",
      "500/500 [==============================] - 4s 8ms/step - loss: 0.8714 - accuracy: 0.6515 - val_loss: 1.0634 - val_accuracy: 0.5750\n",
      "Epoch 30/75\n",
      "500/500 [==============================] - 4s 8ms/step - loss: 0.8469 - accuracy: 0.6575 - val_loss: 1.0307 - val_accuracy: 0.5000\n",
      "Epoch 31/75\n",
      "500/500 [==============================] - 4s 8ms/step - loss: 0.8279 - accuracy: 0.6680 - val_loss: 1.0286 - val_accuracy: 0.4750\n",
      "Epoch 32/75\n",
      "500/500 [==============================] - 4s 8ms/step - loss: 0.7943 - accuracy: 0.6948 - val_loss: 1.0683 - val_accuracy: 0.5000\n",
      "Epoch 33/75\n",
      "500/500 [==============================] - 4s 8ms/step - loss: 0.7911 - accuracy: 0.6865 - val_loss: 1.0567 - val_accuracy: 0.5500\n",
      "Epoch 34/75\n",
      "500/500 [==============================] - 4s 8ms/step - loss: 0.7652 - accuracy: 0.7040 - val_loss: 1.0013 - val_accuracy: 0.5000\n",
      "Epoch 35/75\n",
      "500/500 [==============================] - 4s 8ms/step - loss: 0.7599 - accuracy: 0.7030 - val_loss: 1.0280 - val_accuracy: 0.5500\n",
      "Epoch 36/75\n",
      "500/500 [==============================] - 4s 8ms/step - loss: 0.7465 - accuracy: 0.7045 - val_loss: 1.0306 - val_accuracy: 0.4750\n",
      "Epoch 37/75\n",
      "500/500 [==============================] - 4s 8ms/step - loss: 0.7198 - accuracy: 0.7222 - val_loss: 1.0706 - val_accuracy: 0.5000\n",
      "Epoch 38/75\n",
      "500/500 [==============================] - 4s 8ms/step - loss: 0.6918 - accuracy: 0.7393 - val_loss: 1.0507 - val_accuracy: 0.5500\n",
      "Epoch 39/75\n",
      "500/500 [==============================] - 4s 8ms/step - loss: 0.6868 - accuracy: 0.7362 - val_loss: 0.9679 - val_accuracy: 0.5000\n",
      "Epoch 40/75\n",
      "500/500 [==============================] - 4s 8ms/step - loss: 0.6792 - accuracy: 0.7410 - val_loss: 1.0736 - val_accuracy: 0.5750\n",
      "Epoch 41/75\n",
      "500/500 [==============================] - 4s 8ms/step - loss: 0.6583 - accuracy: 0.7523 - val_loss: 1.1024 - val_accuracy: 0.4750\n",
      "Epoch 42/75\n",
      "500/500 [==============================] - 4s 8ms/step - loss: 0.6398 - accuracy: 0.7515 - val_loss: 1.1177 - val_accuracy: 0.5250\n",
      "Epoch 43/75\n",
      "500/500 [==============================] - 4s 8ms/step - loss: 0.6235 - accuracy: 0.7635 - val_loss: 1.0602 - val_accuracy: 0.5500\n",
      "Epoch 44/75\n",
      "500/500 [==============================] - 4s 8ms/step - loss: 0.6271 - accuracy: 0.7570 - val_loss: 1.0812 - val_accuracy: 0.5500\n",
      "Epoch 45/75\n",
      "500/500 [==============================] - 4s 8ms/step - loss: 0.5898 - accuracy: 0.7818 - val_loss: 1.0415 - val_accuracy: 0.5000\n",
      "Epoch 46/75\n",
      "500/500 [==============================] - 4s 8ms/step - loss: 0.5985 - accuracy: 0.7795 - val_loss: 1.0437 - val_accuracy: 0.5500\n",
      "Epoch 47/75\n",
      "500/500 [==============================] - 4s 8ms/step - loss: 0.5754 - accuracy: 0.7870 - val_loss: 1.1301 - val_accuracy: 0.4750\n",
      "Epoch 48/75\n",
      "500/500 [==============================] - 4s 8ms/step - loss: 0.5592 - accuracy: 0.7903 - val_loss: 0.9714 - val_accuracy: 0.6250\n",
      "Epoch 49/75\n",
      "500/500 [==============================] - 4s 8ms/step - loss: 0.5520 - accuracy: 0.7983 - val_loss: 0.9994 - val_accuracy: 0.5250\n",
      "Epoch 50/75\n",
      "500/500 [==============================] - 4s 8ms/step - loss: 0.5351 - accuracy: 0.8000 - val_loss: 1.0266 - val_accuracy: 0.6000\n",
      "Epoch 51/75\n",
      "500/500 [==============================] - 4s 8ms/step - loss: 0.5388 - accuracy: 0.7977 - val_loss: 1.0412 - val_accuracy: 0.5750\n",
      "Epoch 52/75\n"
     ]
    },
    {
     "name": "stdout",
     "output_type": "stream",
     "text": [
      "500/500 [==============================] - 4s 8ms/step - loss: 0.5110 - accuracy: 0.8110 - val_loss: 1.0206 - val_accuracy: 0.5750\n",
      "Epoch 53/75\n",
      "500/500 [==============================] - 4s 8ms/step - loss: 0.5140 - accuracy: 0.8115 - val_loss: 1.0764 - val_accuracy: 0.5750\n",
      "Epoch 54/75\n",
      "500/500 [==============================] - 4s 8ms/step - loss: 0.5017 - accuracy: 0.8095 - val_loss: 0.9978 - val_accuracy: 0.5750\n",
      "Epoch 55/75\n",
      "500/500 [==============================] - 4s 8ms/step - loss: 0.4827 - accuracy: 0.8245 - val_loss: 1.1084 - val_accuracy: 0.4750\n",
      "Epoch 56/75\n",
      "500/500 [==============================] - 4s 8ms/step - loss: 0.4579 - accuracy: 0.8367 - val_loss: 1.0639 - val_accuracy: 0.5500\n",
      "Epoch 57/75\n",
      "500/500 [==============================] - 4s 8ms/step - loss: 0.4765 - accuracy: 0.8180 - val_loss: 1.1168 - val_accuracy: 0.5000\n",
      "Epoch 58/75\n",
      "500/500 [==============================] - 4s 8ms/step - loss: 0.4707 - accuracy: 0.8320 - val_loss: 1.1412 - val_accuracy: 0.5250\n",
      "Epoch 59/75\n",
      "500/500 [==============================] - 4s 8ms/step - loss: 0.4411 - accuracy: 0.8415 - val_loss: 1.0366 - val_accuracy: 0.5500\n",
      "Epoch 60/75\n",
      "500/500 [==============================] - 4s 8ms/step - loss: 0.4489 - accuracy: 0.8353 - val_loss: 1.0215 - val_accuracy: 0.5750\n",
      "Epoch 61/75\n",
      "500/500 [==============================] - 4s 8ms/step - loss: 0.4357 - accuracy: 0.8470 - val_loss: 1.2095 - val_accuracy: 0.5750\n",
      "Epoch 62/75\n",
      "500/500 [==============================] - 4s 8ms/step - loss: 0.4220 - accuracy: 0.8485 - val_loss: 1.0215 - val_accuracy: 0.5500\n",
      "Epoch 63/75\n",
      "500/500 [==============================] - 4s 8ms/step - loss: 0.4171 - accuracy: 0.8470 - val_loss: 1.1639 - val_accuracy: 0.5500\n",
      "Epoch 64/75\n",
      "500/500 [==============================] - 4s 8ms/step - loss: 0.4121 - accuracy: 0.8510 - val_loss: 1.0906 - val_accuracy: 0.5750\n",
      "Epoch 65/75\n",
      "500/500 [==============================] - 4s 8ms/step - loss: 0.3897 - accuracy: 0.8643 - val_loss: 1.1089 - val_accuracy: 0.5500\n",
      "Epoch 66/75\n",
      "500/500 [==============================] - 4s 8ms/step - loss: 0.3946 - accuracy: 0.8590 - val_loss: 1.0634 - val_accuracy: 0.5000\n",
      "Epoch 67/75\n",
      "500/500 [==============================] - 4s 8ms/step - loss: 0.3733 - accuracy: 0.8687 - val_loss: 1.1185 - val_accuracy: 0.5250\n",
      "Epoch 68/75\n",
      "500/500 [==============================] - 4s 8ms/step - loss: 0.3895 - accuracy: 0.8562 - val_loss: 1.0198 - val_accuracy: 0.5750\n",
      "Epoch 69/75\n",
      "500/500 [==============================] - 4s 8ms/step - loss: 0.3658 - accuracy: 0.8662 - val_loss: 1.0142 - val_accuracy: 0.5500\n",
      "Epoch 70/75\n",
      "500/500 [==============================] - 4s 8ms/step - loss: 0.3521 - accuracy: 0.8815 - val_loss: 1.0402 - val_accuracy: 0.5250\n",
      "Epoch 71/75\n",
      "500/500 [==============================] - 4s 8ms/step - loss: 0.3533 - accuracy: 0.8788 - val_loss: 0.9755 - val_accuracy: 0.6250\n",
      "Epoch 72/75\n",
      "500/500 [==============================] - 4s 8ms/step - loss: 0.3529 - accuracy: 0.8735 - val_loss: 1.0089 - val_accuracy: 0.5500\n",
      "Epoch 73/75\n",
      "500/500 [==============================] - 4s 8ms/step - loss: 0.3381 - accuracy: 0.8815 - val_loss: 1.0913 - val_accuracy: 0.5750\n",
      "Epoch 74/75\n",
      "500/500 [==============================] - 4s 8ms/step - loss: 0.3448 - accuracy: 0.8790 - val_loss: 1.0846 - val_accuracy: 0.5750\n",
      "Epoch 75/75\n",
      "119/500 [======>.......................] - ETA: 2s - loss: 0.3274 - accuracy: 0.8939WARNING:tensorflow:Your input ran out of data; interrupting training. Make sure that your dataset or generator can generate at least `steps_per_epoch * epochs` batches (in this case, 37500 batches). You may need to use the repeat() function when building your dataset.\n",
      "500/500 [==============================] - 2s 5ms/step - loss: 0.3317 - accuracy: 0.8900 - val_loss: 1.1501 - val_accuracy: 0.5250\n"
     ]
    },
    {
     "data": {
      "text/plain": [
       "<keras.callbacks.History at 0x1b2f179b970>"
      ]
     },
     "execution_count": 21,
     "metadata": {},
     "output_type": "execute_result"
    }
   ],
   "source": [
    "model = keras.Sequential([\n",
    "    keras.layers.Dense(input_shape = feature_train[0].shape, units=32, activation='relu'),\n",
    "    keras.layers.Dropout(0.5),\n",
    "    keras.layers.Dense(units=6, activation='softmax')\n",
    "    \n",
    "])\n",
    "\n",
    "print(model.summary())\n",
    "model.compile(optimizer='adamax', \n",
    "              loss=tf.losses.CategoricalCrossentropy(),\n",
    "              metrics=['accuracy'])\n",
    "model.fit(np.asarray(feature_train), np.asarray(y2_train), epochs = 75, steps_per_epoch = 500, validation_split=0.01)"
   ]
  },
  {
   "cell_type": "code",
   "execution_count": 22,
   "metadata": {},
   "outputs": [
    {
     "name": "stdout",
     "output_type": "stream",
     "text": [
      "AxesSubplot(0.125,0.125;0.62x0.755)\n",
      "ACCURACY SCORE:\n",
      "0.5162\n",
      "CLASSIFICATION REPORT:\n",
      "\tPrecision: 0.5218\n",
      "\tRecall: 0.5199\n",
      "\tF1_Score: 0.5184\n"
     ]
    },
    {
     "data": {
      "image/png": "[encoded data removed]",
      "text/plain": [
       "<Figure size 432x288 with 3 Axes>"
      ]
     },
     "metadata": {
      "needs_background": "light"
     },
     "output_type": "display_data"
    }
   ],
   "source": [
    "pred_train=model.predict(feature_test)\n",
    "prediction_keras_train= []\n",
    "\n",
    "for i in pred_train:\n",
    "    prediction_keras_train.append(np.argmax(i))\n",
    "reverse={0:\"A1\", 1:\"A2\", 2:\"B1\",3:\"B2\",4:\"C1\", 5:\"C2\"}\n",
    "reversed_list_train=[reverse[k] for k in prediction_keras_train]\n",
    "\n",
    "evaluate(y1_test, prediction_keras_train)\n",
    "score, matrix = get_score(y_test, pred, \"Keras Sequential\")\n",
    "\n",
    "scores.append(score)\n",
    "matrixes.append(matrixes)"
   ]
  },
  {
   "cell_type": "markdown",
   "metadata": {
    "id": "z-8_3MK1rpZr"
   },
   "source": [
    "Now we can apply evertyhing onto the unlabelled dataset and create a .csv submission for kaggle."
   ]
  },
  {
   "cell_type": "code",
   "execution_count": 23,
   "metadata": {},
   "outputs": [
    {
     "name": "stdout",
     "output_type": "stream",
     "text": [
      "Feature 1 is done computing\n",
      "Feature 2 is done computing\n",
      "Feature 3 is done computing\n",
      "Feature 3 is done computing\n",
      "Features ready to be used\n"
     ]
    }
   ],
   "source": [
    "unlabelled = get_dataset.get_unlabelled_data()\n",
    "\n",
    "unlabelled_feature1=type_counter_unlabelled(data, unlabelled)\n",
    "print(\"Feature 1 is done computing\")\n",
    "unlabelled_feature2=vectorizer(unlabelled)\n",
    "print(\"Feature 2 is done computing\")\n",
    "unlabelled_feature3=word_len_counter(unlabelled)\n",
    "print(\"Feature 3 is done computing\")\n",
    "unlabelled_feature4=sk_vec_unlabelled(data,unlabelled)\n",
    "print(\"Feature 3 is done computing\")\n",
    "\n",
    "unlabelled_feature = np.concatenate((unlabelled_feature1, unlabelled_feature2),axis = 1)\n",
    "unlabelled_feature = np.concatenate((unlabelled_feature, unlabelled_feature3), axis = 1)\n",
    "unlabelled_feature = np.concatenate((unlabelled_feature, unlabelled_feature4), axis = 1)\n",
    "print(\"Features ready to be used\")"
   ]
  },
  {
   "cell_type": "code",
   "execution_count": 24,
   "metadata": {},
   "outputs": [
    {
     "name": "stdout",
     "output_type": "stream",
     "text": [
      "Model: \"sequential_1\"\n",
      "_________________________________________________________________\n",
      " Layer (type)                Output Shape              Param #   \n",
      "=================================================================\n",
      " dense_2 (Dense)             (None, 32)                2171264   \n",
      "                                                                 \n",
      " dropout_1 (Dropout)         (None, 32)                0         \n",
      "                                                                 \n",
      " dense_3 (Dense)             (None, 6)                 198       \n",
      "                                                                 \n",
      "=================================================================\n",
      "Total params: 2,171,462\n",
      "Trainable params: 2,171,462\n",
      "Non-trainable params: 0\n",
      "_________________________________________________________________\n",
      "None\n",
      "Epoch 1/75\n",
      "500/500 [==============================] - 5s 9ms/step - loss: 1.6126 - accuracy: 0.2949 - val_loss: 1.5237 - val_accuracy: 0.3542\n",
      "Epoch 2/75\n",
      "500/500 [==============================] - 4s 8ms/step - loss: 1.4809 - accuracy: 0.3508 - val_loss: 1.4626 - val_accuracy: 0.3542\n",
      "Epoch 3/75\n",
      "500/500 [==============================] - 4s 8ms/step - loss: 1.4255 - accuracy: 0.3784 - val_loss: 1.4249 - val_accuracy: 0.3542\n",
      "Epoch 4/75\n",
      "500/500 [==============================] - 4s 8ms/step - loss: 1.3705 - accuracy: 0.4083 - val_loss: 1.3608 - val_accuracy: 0.4792\n",
      "Epoch 5/75\n",
      "500/500 [==============================] - 4s 8ms/step - loss: 1.3240 - accuracy: 0.4223 - val_loss: 1.3620 - val_accuracy: 0.3958\n",
      "Epoch 6/75\n",
      "500/500 [==============================] - 4s 8ms/step - loss: 1.2972 - accuracy: 0.4489 - val_loss: 1.3086 - val_accuracy: 0.4792\n",
      "Epoch 7/75\n",
      "500/500 [==============================] - 4s 8ms/step - loss: 1.2553 - accuracy: 0.4704 - val_loss: 1.2923 - val_accuracy: 0.5000\n",
      "Epoch 8/75\n",
      "500/500 [==============================] - 4s 8ms/step - loss: 1.2423 - accuracy: 0.4718 - val_loss: 1.2656 - val_accuracy: 0.4583\n",
      "Epoch 9/75\n",
      "500/500 [==============================] - 4s 8ms/step - loss: 1.2027 - accuracy: 0.4858 - val_loss: 1.2478 - val_accuracy: 0.4583\n",
      "Epoch 10/75\n",
      "500/500 [==============================] - 4s 8ms/step - loss: 1.1822 - accuracy: 0.4912 - val_loss: 1.2075 - val_accuracy: 0.5208\n",
      "Epoch 11/75\n",
      "500/500 [==============================] - 4s 8ms/step - loss: 1.1527 - accuracy: 0.5260 - val_loss: 1.2126 - val_accuracy: 0.4375\n",
      "Epoch 12/75\n",
      "500/500 [==============================] - 4s 8ms/step - loss: 1.1488 - accuracy: 0.5082 - val_loss: 1.2171 - val_accuracy: 0.5625\n",
      "Epoch 13/75\n",
      "500/500 [==============================] - 4s 8ms/step - loss: 1.1036 - accuracy: 0.5367 - val_loss: 1.1834 - val_accuracy: 0.5000\n",
      "Epoch 14/75\n",
      "500/500 [==============================] - 4s 8ms/step - loss: 1.0938 - accuracy: 0.5433 - val_loss: 1.1845 - val_accuracy: 0.4583\n",
      "Epoch 15/75\n",
      "500/500 [==============================] - 4s 8ms/step - loss: 1.0596 - accuracy: 0.5633 - val_loss: 1.1514 - val_accuracy: 0.4583\n",
      "Epoch 16/75\n",
      "500/500 [==============================] - 4s 8ms/step - loss: 1.0379 - accuracy: 0.5655 - val_loss: 1.1344 - val_accuracy: 0.4792\n",
      "Epoch 17/75\n",
      "500/500 [==============================] - 4s 8ms/step - loss: 1.0280 - accuracy: 0.5827 - val_loss: 1.1294 - val_accuracy: 0.5833\n",
      "Epoch 18/75\n",
      "500/500 [==============================] - 4s 8ms/step - loss: 1.0040 - accuracy: 0.5925 - val_loss: 1.1370 - val_accuracy: 0.4375\n",
      "Epoch 19/75\n",
      "500/500 [==============================] - 4s 8ms/step - loss: 0.9818 - accuracy: 0.5980 - val_loss: 1.1272 - val_accuracy: 0.5833\n",
      "Epoch 20/75\n",
      "500/500 [==============================] - 4s 8ms/step - loss: 0.9590 - accuracy: 0.6047 - val_loss: 1.1791 - val_accuracy: 0.5417\n",
      "Epoch 21/75\n",
      "500/500 [==============================] - 4s 8ms/step - loss: 0.9331 - accuracy: 0.6210 - val_loss: 1.1565 - val_accuracy: 0.5208\n",
      "Epoch 22/75\n",
      "500/500 [==============================] - 4s 8ms/step - loss: 0.9167 - accuracy: 0.6232 - val_loss: 1.0988 - val_accuracy: 0.5833\n",
      "Epoch 23/75\n",
      "500/500 [==============================] - 4s 8ms/step - loss: 0.9033 - accuracy: 0.6324 - val_loss: 1.1099 - val_accuracy: 0.5417\n",
      "Epoch 24/75\n",
      "500/500 [==============================] - 4s 8ms/step - loss: 0.8797 - accuracy: 0.6430 - val_loss: 1.1188 - val_accuracy: 0.6042\n",
      "Epoch 25/75\n",
      "500/500 [==============================] - 4s 8ms/step - loss: 0.8575 - accuracy: 0.6593 - val_loss: 1.1035 - val_accuracy: 0.5833\n",
      "Epoch 26/75\n",
      "500/500 [==============================] - 4s 8ms/step - loss: 0.8277 - accuracy: 0.6701 - val_loss: 1.0944 - val_accuracy: 0.5625\n",
      "Epoch 27/75\n",
      "500/500 [==============================] - 4s 8ms/step - loss: 0.8094 - accuracy: 0.6859 - val_loss: 1.1147 - val_accuracy: 0.5833\n",
      "Epoch 28/75\n",
      "500/500 [==============================] - 4s 8ms/step - loss: 0.7823 - accuracy: 0.6947 - val_loss: 1.1242 - val_accuracy: 0.5208\n",
      "Epoch 29/75\n",
      "500/500 [==============================] - 4s 8ms/step - loss: 0.7812 - accuracy: 0.6917 - val_loss: 1.0994 - val_accuracy: 0.5625\n",
      "Epoch 30/75\n",
      "500/500 [==============================] - 4s 8ms/step - loss: 0.7501 - accuracy: 0.7061 - val_loss: 1.0994 - val_accuracy: 0.5833\n",
      "Epoch 31/75\n",
      "500/500 [==============================] - 4s 8ms/step - loss: 0.7434 - accuracy: 0.6975 - val_loss: 1.0923 - val_accuracy: 0.5208\n",
      "Epoch 32/75\n",
      "500/500 [==============================] - 4s 8ms/step - loss: 0.7121 - accuracy: 0.7173 - val_loss: 1.1064 - val_accuracy: 0.5208\n",
      "Epoch 33/75\n",
      "500/500 [==============================] - 4s 8ms/step - loss: 0.7086 - accuracy: 0.7206 - val_loss: 1.1214 - val_accuracy: 0.5625\n",
      "Epoch 34/75\n",
      "500/500 [==============================] - 4s 8ms/step - loss: 0.6881 - accuracy: 0.7312 - val_loss: 1.1063 - val_accuracy: 0.5833\n",
      "Epoch 35/75\n",
      "500/500 [==============================] - 4s 8ms/step - loss: 0.6753 - accuracy: 0.7338 - val_loss: 1.1214 - val_accuracy: 0.5833\n",
      "Epoch 36/75\n",
      "500/500 [==============================] - 4s 8ms/step - loss: 0.6602 - accuracy: 0.7416 - val_loss: 1.1402 - val_accuracy: 0.5833\n",
      "Epoch 37/75\n",
      "500/500 [==============================] - 4s 8ms/step - loss: 0.6405 - accuracy: 0.7560 - val_loss: 1.1524 - val_accuracy: 0.5000\n",
      "Epoch 38/75\n",
      "500/500 [==============================] - 4s 8ms/step - loss: 0.6469 - accuracy: 0.7480 - val_loss: 1.1503 - val_accuracy: 0.5208\n",
      "Epoch 39/75\n",
      "500/500 [==============================] - 4s 8ms/step - loss: 0.6331 - accuracy: 0.7464 - val_loss: 1.1455 - val_accuracy: 0.5833\n",
      "Epoch 40/75\n",
      "500/500 [==============================] - 4s 8ms/step - loss: 0.6128 - accuracy: 0.7606 - val_loss: 1.2053 - val_accuracy: 0.5000\n",
      "Epoch 41/75\n",
      "500/500 [==============================] - 4s 8ms/step - loss: 0.5950 - accuracy: 0.7726 - val_loss: 1.1439 - val_accuracy: 0.5625\n",
      "Epoch 42/75\n",
      "500/500 [==============================] - 4s 8ms/step - loss: 0.5760 - accuracy: 0.7853 - val_loss: 1.1643 - val_accuracy: 0.5625\n",
      "Epoch 43/75\n",
      "500/500 [==============================] - 4s 8ms/step - loss: 0.5735 - accuracy: 0.7768 - val_loss: 1.1776 - val_accuracy: 0.5417\n",
      "Epoch 44/75\n",
      "500/500 [==============================] - 4s 8ms/step - loss: 0.5622 - accuracy: 0.7774 - val_loss: 1.1810 - val_accuracy: 0.5417\n",
      "Epoch 45/75\n",
      "500/500 [==============================] - 4s 8ms/step - loss: 0.5426 - accuracy: 0.7829 - val_loss: 1.1841 - val_accuracy: 0.5417\n",
      "Epoch 46/75\n",
      "500/500 [==============================] - 4s 8ms/step - loss: 0.5353 - accuracy: 0.7917 - val_loss: 1.1630 - val_accuracy: 0.5625\n",
      "Epoch 47/75\n",
      "500/500 [==============================] - 4s 8ms/step - loss: 0.5312 - accuracy: 0.7945 - val_loss: 1.1851 - val_accuracy: 0.5208\n",
      "Epoch 48/75\n",
      "500/500 [==============================] - 4s 8ms/step - loss: 0.5085 - accuracy: 0.8119 - val_loss: 1.2161 - val_accuracy: 0.5625\n",
      "Epoch 49/75\n",
      "500/500 [==============================] - 4s 8ms/step - loss: 0.5065 - accuracy: 0.8051 - val_loss: 1.2636 - val_accuracy: 0.5417\n",
      "Epoch 50/75\n",
      "500/500 [==============================] - 4s 8ms/step - loss: 0.4914 - accuracy: 0.8111 - val_loss: 1.2355 - val_accuracy: 0.5000\n",
      "Epoch 51/75\n",
      "500/500 [==============================] - 4s 8ms/step - loss: 0.4978 - accuracy: 0.8007 - val_loss: 1.2208 - val_accuracy: 0.6042\n",
      "Epoch 52/75\n"
     ]
    },
    {
     "name": "stdout",
     "output_type": "stream",
     "text": [
      "500/500 [==============================] - 4s 8ms/step - loss: 0.4734 - accuracy: 0.8237 - val_loss: 1.1952 - val_accuracy: 0.5625\n",
      "Epoch 53/75\n",
      "500/500 [==============================] - 4s 8ms/step - loss: 0.4832 - accuracy: 0.8153 - val_loss: 1.2393 - val_accuracy: 0.5625\n",
      "Epoch 54/75\n",
      "500/500 [==============================] - 4s 8ms/step - loss: 0.4621 - accuracy: 0.8291 - val_loss: 1.2187 - val_accuracy: 0.5833\n",
      "Epoch 55/75\n",
      "500/500 [==============================] - 4s 8ms/step - loss: 0.4591 - accuracy: 0.8211 - val_loss: 1.2378 - val_accuracy: 0.5208\n",
      "Epoch 56/75\n",
      "500/500 [==============================] - 4s 8ms/step - loss: 0.4398 - accuracy: 0.8371 - val_loss: 1.2826 - val_accuracy: 0.5833\n",
      "Epoch 57/75\n",
      "500/500 [==============================] - 4s 8ms/step - loss: 0.4596 - accuracy: 0.8215 - val_loss: 1.2869 - val_accuracy: 0.4792\n",
      "Epoch 58/75\n",
      "500/500 [==============================] - 4s 8ms/step - loss: 0.4366 - accuracy: 0.8365 - val_loss: 1.3031 - val_accuracy: 0.4792\n",
      "Epoch 59/75\n",
      "500/500 [==============================] - 4s 8ms/step - loss: 0.4121 - accuracy: 0.8464 - val_loss: 1.3448 - val_accuracy: 0.5417\n",
      "Epoch 60/75\n",
      "500/500 [==============================] - 4s 8ms/step - loss: 0.4326 - accuracy: 0.8335 - val_loss: 1.2988 - val_accuracy: 0.5208\n",
      "Epoch 61/75\n",
      "500/500 [==============================] - 4s 8ms/step - loss: 0.4143 - accuracy: 0.8377 - val_loss: 1.2821 - val_accuracy: 0.5000\n",
      "Epoch 62/75\n",
      "500/500 [==============================] - 4s 8ms/step - loss: 0.4003 - accuracy: 0.8462 - val_loss: 1.3555 - val_accuracy: 0.5417\n",
      "Epoch 63/75\n",
      "500/500 [==============================] - 4s 8ms/step - loss: 0.4023 - accuracy: 0.8450 - val_loss: 1.2949 - val_accuracy: 0.5833\n",
      "Epoch 64/75\n",
      "500/500 [==============================] - 4s 8ms/step - loss: 0.3915 - accuracy: 0.8466 - val_loss: 1.3903 - val_accuracy: 0.5000\n",
      "Epoch 65/75\n",
      "500/500 [==============================] - 4s 8ms/step - loss: 0.3786 - accuracy: 0.8568 - val_loss: 1.3222 - val_accuracy: 0.5208\n",
      "Epoch 66/75\n",
      "500/500 [==============================] - 4s 8ms/step - loss: 0.3912 - accuracy: 0.8444 - val_loss: 1.3733 - val_accuracy: 0.5208\n",
      "Epoch 67/75\n",
      "500/500 [==============================] - 4s 8ms/step - loss: 0.3837 - accuracy: 0.8538 - val_loss: 1.3885 - val_accuracy: 0.5208\n",
      "Epoch 68/75\n",
      "500/500 [==============================] - 4s 8ms/step - loss: 0.3702 - accuracy: 0.8598 - val_loss: 1.3366 - val_accuracy: 0.5208\n",
      "Epoch 69/75\n",
      "500/500 [==============================] - 4s 8ms/step - loss: 0.3712 - accuracy: 0.8542 - val_loss: 1.3961 - val_accuracy: 0.5208\n",
      "Epoch 70/75\n",
      "500/500 [==============================] - 4s 8ms/step - loss: 0.3470 - accuracy: 0.8740 - val_loss: 1.4041 - val_accuracy: 0.4792\n",
      "Epoch 71/75\n",
      "500/500 [==============================] - 4s 8ms/step - loss: 0.3628 - accuracy: 0.8578 - val_loss: 1.3796 - val_accuracy: 0.5625\n",
      "Epoch 72/75\n",
      "197/500 [==========>...................] - ETA: 2s - loss: 0.3499 - accuracy: 0.8701WARNING:tensorflow:Your input ran out of data; interrupting training. Make sure that your dataset or generator can generate at least `steps_per_epoch * epochs` batches (in this case, 37500 batches). You may need to use the repeat() function when building your dataset.\n",
      "500/500 [==============================] - 2s 3ms/step - loss: 0.3498 - accuracy: 0.8705 - val_loss: 1.4316 - val_accuracy: 0.5000\n"
     ]
    },
    {
     "data": {
      "text/plain": [
       "<keras.callbacks.History at 0x1b2eeb81dc0>"
      ]
     },
     "execution_count": 24,
     "metadata": {},
     "output_type": "execute_result"
    }
   ],
   "source": [
    "model = keras.Sequential([\n",
    "    keras.layers.Dense(input_shape = feature[0].shape, units=32, activation='relu'),\n",
    "    keras.layers.Dropout(0.5),\n",
    "    keras.layers.Dense(units=6, activation='softmax'),\n",
    "\n",
    " \n",
    "])\n",
    "print(model.summary())\n",
    "model.compile(optimizer='adamax', \n",
    "              loss=tf.losses.CategoricalCrossentropy(),\n",
    "              metrics=['accuracy'])\n",
    "model.fit(np.asarray(feature), np.asarray(y2), epochs = 75, steps_per_epoch = 500, validation_split=0.01)"
   ]
  },
  {
   "cell_type": "code",
   "execution_count": 25,
   "metadata": {},
   "outputs": [
    {
     "name": "stdout",
     "output_type": "stream",
     "text": [
      "['C2', 'B1', 'B1', 'A2', 'C2', 'C2', 'A2', 'A2', 'C2', 'A2', 'A1', 'A2', 'B2', 'C1', 'A1', 'A2', 'B2', 'A1', 'B1', 'A1', 'C2', 'A1', 'A2', 'C2', 'B1', 'C2', 'A1', 'A1', 'C2', 'B1', 'A2', 'A2', 'A2', 'A1', 'A2', 'A2', 'C1', 'B2', 'A2', 'A1', 'A2', 'B2', 'C2', 'C1', 'C1', 'C2', 'B2', 'C2', 'A1', 'A1', 'C1', 'A1', 'C1', 'A2', 'A1', 'C1', 'C1', 'B1', 'C1', 'A2', 'B2', 'A2', 'C2', 'C1', 'C2', 'B2', 'B1', 'A2', 'B1', 'C2', 'A1', 'B1', 'B2', 'B1', 'C1', 'A2', 'B2', 'C1', 'A2', 'C1', 'A2', 'A1', 'B1', 'B1', 'A1', 'C2', 'B1', 'C2', 'C2', 'B1', 'C2', 'A2', 'C1', 'C2', 'A2', 'A2', 'A1', 'A2', 'B1', 'C2', 'C2', 'C1', 'A1', 'A2', 'C2', 'C2', 'B2', 'A1', 'A2', 'C1', 'C1', 'A1', 'C1', 'B2', 'C2', 'A2', 'C1', 'A2', 'A2', 'B2', 'A1', 'B1', 'B1', 'C2', 'A2', 'C2', 'C2', 'C2', 'C1', 'C1', 'A1', 'A2', 'C2', 'C2', 'C2', 'C2', 'A2', 'C2', 'B1', 'B1', 'A1', 'C2', 'C2', 'C2', 'C1', 'C1', 'A1', 'C2', 'C2', 'B1', 'B2', 'B1', 'A2', 'A2', 'A2', 'C2', 'C1', 'A1', 'A1', 'A2', 'A2', 'A1', 'B1', 'B2', 'C2', 'C2', 'A1', 'A2', 'B1', 'B2', 'A1', 'B1', 'A1', 'B1', 'B1', 'C1', 'C1', 'C1', 'B1', 'C2', 'A2', 'C2', 'B2', 'B1', 'B2', 'A1', 'A2', 'B1', 'C2', 'C2', 'A1', 'B2', 'C1', 'B1', 'B1', 'A2', 'C2', 'B1', 'C2', 'A2', 'B2', 'C2', 'A2', 'A1', 'C1', 'A2', 'A2', 'B1', 'A1', 'A1', 'B1', 'A1', 'A2', 'C1', 'B1', 'C1', 'C1', 'C1', 'A2', 'B1', 'B2', 'C2', 'A1', 'B1', 'A1', 'C1', 'A2', 'B1', 'A2', 'A1', 'C1', 'C2', 'C2', 'A1', 'B1', 'C1', 'C1', 'B1', 'C2', 'C2', 'B1', 'B1', 'A1', 'A2', 'B1', 'A1', 'B1', 'C1', 'A2', 'C1', 'B1', 'B1', 'A1', 'C2', 'C1', 'C2', 'A2', 'A1', 'A1', 'C2', 'A1', 'B1', 'A1', 'A2', 'C1', 'C2', 'B1', 'B1', 'C1', 'C2', 'C2', 'B1', 'A2', 'C1', 'A2', 'A2', 'B2', 'C2', 'C1', 'B1', 'A1', 'C2', 'C2', 'A2', 'A2', 'C2', 'C2', 'C2', 'C1', 'C2', 'C1', 'B1', 'B1', 'A2', 'C2', 'C2', 'C2', 'B1', 'B1', 'A1', 'A2', 'B1', 'C2', 'A1', 'C1', 'A1', 'B2', 'C2', 'C2', 'B1', 'C2', 'B1', 'B1', 'C2', 'C2', 'C2', 'A1', 'C2', 'A2', 'A1', 'C2', 'B2', 'C1', 'C2', 'A1', 'A1', 'C2', 'C1', 'A2', 'B1', 'C1', 'A2', 'A1', 'B2', 'A2', 'A2', 'A1', 'A1', 'C2', 'C2', 'B1', 'A1', 'A2', 'B1', 'C2', 'A2', 'A2', 'C2', 'A2', 'B1', 'C2', 'C2', 'C1', 'C2', 'B2', 'C2', 'A2', 'B1', 'C2', 'C1', 'A2', 'C2', 'B2', 'B1', 'C1', 'C2', 'A2', 'B1', 'B1', 'C2', 'B1', 'A1', 'C2', 'A1', 'C2', 'B1', 'A2', 'A2', 'A2', 'A2', 'A2', 'A2', 'B2', 'B1', 'C2', 'C2', 'C2', 'A1', 'C2', 'B1', 'C2', 'B1', 'A1', 'C2', 'C2', 'C1', 'A2', 'B1', 'B1', 'A1', 'B1', 'A2', 'A1', 'B2', 'A2', 'C2', 'B2', 'A1', 'A1', 'C2', 'C1', 'C1', 'C2', 'C2', 'C2', 'B2', 'B1', 'B2', 'B1', 'A2', 'A1', 'C2', 'B2', 'A1', 'B1', 'C2', 'A2', 'C2', 'A1', 'B1', 'A1', 'A1', 'B2', 'C1', 'A1', 'A1', 'C2', 'C2', 'A1', 'A1', 'B1', 'B1', 'C2', 'B2', 'B1', 'A1', 'B1', 'A2', 'B2', 'B1', 'C2', 'A1', 'A1', 'A2', 'A1', 'A1', 'C2', 'B2', 'B1', 'C2', 'B1', 'B1', 'C2', 'A2', 'A2', 'C2', 'B1', 'A1', 'B1', 'A1', 'A1', 'A1', 'B1', 'A2', 'C2', 'C2', 'B2', 'C1', 'A2', 'B2', 'B2', 'A2', 'A1', 'C1', 'C2', 'C2', 'B1', 'A2', 'C2', 'C2', 'B1', 'A2', 'A1', 'A2', 'C1', 'A1', 'C2', 'C1', 'C2', 'C1', 'B1', 'C2', 'A1', 'C1', 'C2', 'B2', 'A1', 'B1', 'B2', 'A2', 'B2', 'C1', 'B1', 'C1', 'B1', 'C1', 'A2', 'A1', 'B2', 'B2', 'C1', 'C1', 'A2', 'B1', 'A1', 'B1', 'C2', 'B2', 'B1', 'C1', 'B1', 'C2', 'C2', 'C1', 'C2', 'C2', 'A1', 'A1', 'C1', 'B2', 'B1', 'A1', 'A1', 'A1', 'A1', 'C2', 'A1', 'A2', 'B2', 'A2', 'B1', 'A1', 'B1', 'C2', 'B2', 'B2', 'A2', 'C1', 'A2', 'C2', 'B2', 'B1', 'C1', 'A2', 'B2', 'B2', 'A2', 'C1', 'C2', 'B1', 'C2', 'C2', 'B2', 'A1', 'B2', 'A2', 'B1', 'B2', 'A2', 'C2', 'B1', 'A2', 'C2', 'A2', 'B2', 'A2', 'B1', 'B2', 'B1', 'A1', 'A1', 'A1', 'B1', 'A1', 'A1', 'C2', 'B1', 'A2', 'B1', 'C1', 'B1', 'A2', 'A1', 'A1', 'C2', 'C1', 'A1', 'B1', 'A1', 'A2', 'C2', 'B1', 'C2', 'B2', 'B1', 'C1', 'A2', 'B2', 'B1', 'C2', 'C2', 'A2', 'A2', 'A2', 'B2', 'A2', 'A2', 'B1', 'C2', 'A1', 'B1', 'C1', 'B1', 'A1', 'C2', 'A1', 'B1', 'C1', 'A2', 'A2', 'C2', 'A1', 'C1', 'A2', 'B2', 'C2', 'B1', 'B1', 'C2', 'C2', 'A2', 'B1', 'C1', 'C1', 'C1', 'C2', 'A1', 'C2', 'B2', 'B2', 'C2', 'A2', 'A1', 'A2', 'A2', 'A2', 'C2', 'B2', 'B1', 'C2', 'C2', 'B1', 'A1', 'A2', 'A1', 'A1', 'B1', 'B1', 'C2', 'A1', 'C2', 'B2', 'C2', 'C1', 'A2', 'B1', 'A1', 'C1', 'C2', 'B1', 'A2', 'A2', 'C1', 'A2', 'C2', 'B1', 'A1', 'C2', 'A1', 'A2', 'A1', 'B2', 'A1', 'C2', 'B2', 'A2', 'C2', 'B1', 'A2', 'C2', 'C1', 'B1', 'B1', 'B1', 'A1', 'A1', 'C2', 'A2', 'A2', 'A2', 'C1', 'B1', 'C2', 'C2', 'B2', 'C2', 'C2', 'B2', 'C2', 'C2', 'A2', 'B1', 'C2', 'A1', 'C2', 'C1', 'C1', 'B2', 'C2', 'A2', 'C2', 'C1', 'A2', 'A2', 'C1', 'C1', 'A1', 'C2', 'B1', 'B1', 'C1', 'C2', 'B1', 'B1', 'A1', 'C1', 'B2', 'C1', 'B2', 'C1', 'A2', 'A1', 'A2', 'B1', 'A2', 'C2', 'C1', 'A2', 'A1', 'C2', 'B1', 'B2', 'C2', 'C2', 'C2', 'B2', 'A2', 'C2', 'B2', 'A1', 'B2', 'B1', 'C2', 'C1', 'C2', 'C2', 'B1', 'C1', 'B1', 'A2', 'A2', 'A2', 'A2', 'B1', 'C2', 'A1', 'C2', 'B1', 'B2', 'B2', 'A2', 'A1', 'B1', 'C2', 'C1', 'C2', 'C2', 'A2', 'B1', 'A1', 'B1', 'B1', 'A2', 'A1', 'C1', 'B1', 'A1', 'C1', 'B2', 'B2', 'B1', 'C2', 'C2', 'A2', 'B1', 'B1', 'C2', 'C2', 'C2', 'B1', 'B1', 'C1', 'B1', 'A1', 'B1', 'C1', 'B2', 'C2', 'A1', 'B1', 'A1', 'A1', 'B2', 'C2', 'C1', 'A1', 'A1', 'B1', 'B2', 'B2', 'B2', 'B2', 'B1', 'C2', 'C1', 'C1', 'B1', 'A2', 'A1', 'C2', 'A1', 'A2', 'A2', 'C1', 'A2', 'B2', 'C2', 'C2', 'B1', 'A2', 'A1', 'B1', 'C1', 'C2', 'B1', 'A2', 'A1', 'C2', 'C2', 'C1', 'C1', 'C2', 'A2', 'C1', 'C2', 'C2', 'C2', 'A1', 'C1', 'A1', 'A2', 'C1', 'A1', 'C2', 'B2', 'B2', 'B1', 'C1', 'B2', 'B1', 'B1', 'C2', 'C2', 'C1', 'C1', 'A1', 'A2', 'C2', 'A1', 'A1', 'A1', 'A2', 'B1', 'C1', 'C2', 'C2', 'B1', 'B1', 'C1', 'C2', 'A2', 'C2', 'B1', 'C1', 'B1', 'B1', 'C2', 'A2', 'A1', 'A1', 'B1', 'C1', 'C1', 'B2', 'C1', 'B1', 'B2', 'A1', 'B1', 'C2', 'B2', 'C1', 'B2', 'C2', 'C2', 'C2', 'A1', 'C2', 'C1', 'C1', 'A2', 'C2', 'B2', 'B1', 'C1', 'B1', 'A2', 'B1', 'B2', 'C2', 'A2', 'B1', 'B2', 'C2', 'B2', 'C2', 'A1', 'C2', 'A2', 'B1', 'A2', 'C1', 'B1', 'A1', 'A1', 'B1', 'C2', 'A2', 'C2', 'C2', 'B2', 'C2', 'B1', 'B1', 'B1', 'A2', 'C2', 'B1', 'C2', 'B1', 'A2', 'A1', 'C2', 'C2', 'A2', 'C2', 'C2', 'C1', 'A2', 'A2', 'C2', 'C2', 'C1', 'A1', 'C1', 'B1', 'A1', 'A2', 'C2', 'C1', 'C2', 'C2', 'A1', 'B2', 'C2', 'B1', 'A2', 'B1', 'A1', 'A1', 'B1', 'A1', 'B1', 'A2', 'A2', 'A2', 'B1', 'C1', 'A1', 'A2', 'A2', 'C1', 'A2', 'B2', 'C2', 'C1', 'C2', 'A1', 'B1', 'C2', 'B1', 'C1', 'A2', 'A2', 'B2', 'C1', 'B2', 'A2', 'C2', 'A2', 'C2', 'B1', 'B1', 'C2', 'A1', 'C1', 'C1', 'C1', 'C2', 'C2', 'B1', 'C2', 'B1', 'C1', 'B2', 'A1', 'B1', 'B1', 'C2', 'B1', 'B1', 'A2', 'C2', 'C2', 'C2', 'B1', 'A1', 'A1', 'C2', 'A1', 'A2', 'A1', 'A2', 'B2', 'C1', 'C1', 'A1', 'C2', 'A1', 'A2', 'B1', 'A2', 'C2', 'C1', 'C1', 'B1', 'B1', 'C2', 'A1', 'A2', 'A1', 'A1', 'C2', 'A1', 'B2', 'B2', 'B2', 'B1', 'B2', 'A1', 'C2', 'A1', 'B2', 'B1', 'B1', 'C1', 'C2', 'A2', 'B2', 'A1', 'A1', 'B2', 'C2', 'B1', 'A2', 'A2', 'C2', 'B1', 'A2', 'C1', 'A1', 'C2', 'C2', 'A2', 'B1', 'A1', 'C2', 'B1', 'B1', 'B1', 'C2', 'C1', 'A2', 'C1', 'C2', 'A1', 'B2', 'B1', 'B1', 'C2', 'C2', 'A2', 'A1', 'B1', 'C1', 'B1', 'C2', 'A1', 'C2', 'B1', 'C2', 'B2', 'B1', 'B1', 'C2', 'C2', 'C1', 'A2', 'B1', 'C2', 'A1', 'B1', 'B2', 'B2', 'C1', 'B1', 'A1', 'B1', 'A2', 'A1', 'C1', 'B1', 'B1', 'B1', 'C2', 'A2', 'C2', 'A2', 'B1', 'B1', 'B1', 'C1', 'A1', 'A1', 'A1', 'B1', 'A2', 'C2', 'C1', 'B2']\n"
     ]
    }
   ],
   "source": [
    "\n",
    "pred=model.predict(unlabelled_feature)\n",
    "prediction_keras= []\n",
    "for i in pred:\n",
    "    prediction_keras.append(np.argmax(i))\n",
    "\n",
    "\n",
    "reverse={0:\"A1\", 1:\"A2\", 2:\"B1\",3:\"B2\",4:\"C1\", 5:\"C2\"}\n",
    "\n",
    "reversed_list=[reverse[k] for k in prediction_keras]\n",
    "print(reversed_list)\n"
   ]
  },
  {
   "cell_type": "code",
   "execution_count": 26,
   "metadata": {},
   "outputs": [],
   "source": [
    "keras_submission = pd.DataFrame()\n",
    "keras_submission[\"difficulty\"]=reversed_list\n",
    "keras_submission.index.names = ['id']\n",
    "\n",
    "keras_submission.to_csv('keras_submission.csv')\n"
   ]
  },
  {
   "cell_type": "markdown",
   "metadata": {
    "id": "82FvnJycsBFf"
   },
   "source": [
    "#### 4.7. Show a summary of your results"
   ]
  },
  {
   "cell_type": "markdown",
   "metadata": {
    "id": "82FvnJycsBFf"
   },
   "source": [
    "Here is the aggregated table for the classifiers results (also available on GitHub). Our classifier is by far the best of all the classifiers we tried.\n",
    "\n",
    "## The final Kaagle submission score was 5.6250"
   ]
  },
  {
   "cell_type": "code",
   "execution_count": 27,
   "metadata": {},
   "outputs": [
    {
     "data": {
      "text/html": [
       "<div>\n",
       "<style scoped>\n",
       "    .dataframe tbody tr th:only-of-type {\n",
       "        vertical-align: middle;\n",
       "    }\n",
       "\n",
       "    .dataframe tbody tr th {\n",
       "        vertical-align: top;\n",
       "    }\n",
       "\n",
       "    .dataframe thead th {\n",
       "        text-align: right;\n",
       "    }\n",
       "</style>\n",
       "<table border=\"1\" class=\"dataframe\">\n",
       "  <thead>\n",
       "    <tr style=\"text-align: right;\">\n",
       "      <th></th>\n",
       "      <th>Precision</th>\n",
       "      <th>Recall</th>\n",
       "      <th>F1- score</th>\n",
       "      <th>Accuracy</th>\n",
       "    </tr>\n",
       "    <tr>\n",
       "      <th>Classifier</th>\n",
       "      <th></th>\n",
       "      <th></th>\n",
       "      <th></th>\n",
       "      <th></th>\n",
       "    </tr>\n",
       "  </thead>\n",
       "  <tbody>\n",
       "    <tr>\n",
       "      <th>Logisitc Regression</th>\n",
       "      <td>0.464496</td>\n",
       "      <td>0.467678</td>\n",
       "      <td>0.464014</td>\n",
       "      <td>0.466667</td>\n",
       "    </tr>\n",
       "    <tr>\n",
       "      <th>KNN</th>\n",
       "      <td>0.419700</td>\n",
       "      <td>0.354327</td>\n",
       "      <td>0.345031</td>\n",
       "      <td>0.354167</td>\n",
       "    </tr>\n",
       "    <tr>\n",
       "      <th>Decision Tree</th>\n",
       "      <td>0.285820</td>\n",
       "      <td>0.282917</td>\n",
       "      <td>0.281186</td>\n",
       "      <td>0.282292</td>\n",
       "    </tr>\n",
       "    <tr>\n",
       "      <th>Random Forest</th>\n",
       "      <td>0.435028</td>\n",
       "      <td>0.422970</td>\n",
       "      <td>0.411758</td>\n",
       "      <td>0.420833</td>\n",
       "    </tr>\n",
       "    <tr>\n",
       "      <th>Keras Sequential</th>\n",
       "      <td>0.435028</td>\n",
       "      <td>0.422970</td>\n",
       "      <td>0.411758</td>\n",
       "      <td>0.420833</td>\n",
       "    </tr>\n",
       "  </tbody>\n",
       "</table>\n",
       "</div>"
      ],
      "text/plain": [
       "                     Precision    Recall  F1- score  Accuracy\n",
       "Classifier                                                   \n",
       "Logisitc Regression   0.464496  0.467678   0.464014  0.466667\n",
       "KNN                   0.419700  0.354327   0.345031  0.354167\n",
       "Decision Tree         0.285820  0.282917   0.281186  0.282292\n",
       "Random Forest         0.435028  0.422970   0.411758  0.420833\n",
       "Keras Sequential      0.435028  0.422970   0.411758  0.420833"
      ]
     },
     "execution_count": 27,
     "metadata": {},
     "output_type": "execute_result"
    }
   ],
   "source": [
    "table = pd.DataFrame(scores, columns=[\"Classifier\", \"Precision\", \"Recall\", \"F1- score\", \"Accuracy\"])\n",
    "table=table.set_index('Classifier')\n",
    "table.head()"
   ]
  }
 ],
 "metadata": {
  "colab": {
   "name": "Copie de Project_guidelines_2021.ipynb",
   "provenance": []
  },
  "kernelspec": {
   "display_name": "Python 3 (ipykernel)",
   "language": "python",
   "name": "python3"
  },
  "language_info": {
   "codemirror_mode": {
    "name": "ipython",
    "version": 3
   },
   "file_extension": ".py",
   "mimetype": "text/x-python",
   "name": "python",
   "nbconvert_exporter": "python",
   "pygments_lexer": "ipython3",
   "version": "3.9.9"
  }
 },
 "nbformat": 4,
 "nbformat_minor": 1
}
