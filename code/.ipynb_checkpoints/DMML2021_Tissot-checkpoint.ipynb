{
 "cells": [
  {
   "cell_type": "markdown",
   "metadata": {
    "id": "8ZKqCFFbNZ04"
   },
   "source": [
    "# Data Mining and Machine Learning - Text classification - Tissot"
   ]
  },
  {
   "cell_type": "markdown",
   "metadata": {
    "id": "9-14CAdOoinM"
   },
   "source": [
    "The goal of this project was to create a model from data with texts that have a label difficulty in order to predict the difficulty level of any french text. This is used to help english speaking people that are learning french to find an appropriate text to practise reading.\n",
    "\n",
    "\n",
    "\n",
    "\n",
    "\n",
    "This notebook was made for the DMML 2021 course. all the information on this project can be found on the publicly available github by clicking on this link:\n",
    "\n",
    "https://github.com/ABonvin/DMML21_Tissot/\n",
    "\n",
    "This was also a Kaggle competition:\n",
    "\n",
    "https://www.kaggle.com/c/detecting-the-difficulty-level-of-french-texts/overview\n",
    "\n",
    "Team Participants:\n",
    "\n",
    "- Arnaud Bonvin\n",
    "- Vakisan Tharmakulasinkam\n",
    "- Tarald Dysthe"
   ]
  },
  {
   "cell_type": "markdown",
   "metadata": {
    "id": "9-14CAdOoinM"
   },
   "source": [
    "\n",
    "\n",
    "### 1. Read data into your notebook. \n"
   ]
  },
  {
   "cell_type": "code",
   "execution_count": 1,
   "metadata": {},
   "outputs": [],
   "source": [
    "import os\n",
    "import sys\n",
    "import get_dataset\n",
    "import pandas as pd\n",
    "import numpy as np\n",
    "import numpy\n",
    "import csv\n",
    "from tqdm import tqdm\n",
    "\n",
    "from functs import evaluate, get_score\n",
    "from keras_funct import *\n",
    "\n",
    "import matplotlib.pyplot as plt\n",
    "import seaborn as sns\n",
    "from sklearn.metrics import confusion_matrix\n",
    "from sklearn.model_selection import train_test_split\n",
    "from sklearn.pipeline import Pipeline\n",
    "from sklearn.feature_extraction.text import TfidfVectorizer\n",
    "from sklearn.linear_model import LogisticRegression\n",
    "from sklearn.feature_extraction.text import CountVectorizer\n",
    "\n",
    "import tensorflow as tf\n",
    "from tensorflow import keras\n",
    "\n",
    "\n",
    "from sklearn.ensemble import RandomForestClassifier\n",
    "from sklearn.neighbors import KNeighborsClassifier\n",
    "from sklearn.model_selection import GridSearchCV\n",
    "from sklearn.tree import DecisionTreeClassifier\n",
    "\n",
    "import spacy as spacy\n",
    "from spacy.attrs import LOWER, POS, ENT_TYPE, IS_ALPHA\n",
    "from spacy.tokens import Doc\n",
    "import fr_core_news_md\n",
    "from gensim.models import word2vec\n",
    "\n",
    "from IPython.display import YouTubeVideo\n",
    "\n",
    "\n",
    "np.random.seed = 0\n"
   ]
  },
  {
   "cell_type": "code",
   "execution_count": 2,
   "metadata": {
    "id": "daqvj7feTx60"
   },
   "outputs": [],
   "source": [
    "df = get_dataset.get_train_data()\n",
    "scores=[]\n",
    "matrixes=[]\n",
    "\n"
   ]
  },
  {
   "cell_type": "markdown",
   "metadata": {
    "id": "9-14CAdOoinM"
   },
   "source": [
    "Here is the look of the dataframe you will use for the project\n"
   ]
  },
  {
   "cell_type": "code",
   "execution_count": 3,
   "metadata": {
    "colab": {
     "base_uri": "https://localhost:8080/",
     "height": 206
    },
    "id": "VxRSnk5bhTp8",
    "outputId": "80616e55-545c-4b80-fd32-99de0b0e4124"
   },
   "outputs": [
    {
     "data": {
      "text/html": [
       "<div>\n",
       "<style scoped>\n",
       "    .dataframe tbody tr th:only-of-type {\n",
       "        vertical-align: middle;\n",
       "    }\n",
       "\n",
       "    .dataframe tbody tr th {\n",
       "        vertical-align: top;\n",
       "    }\n",
       "\n",
       "    .dataframe thead th {\n",
       "        text-align: right;\n",
       "    }\n",
       "</style>\n",
       "<table border=\"1\" class=\"dataframe\">\n",
       "  <thead>\n",
       "    <tr style=\"text-align: right;\">\n",
       "      <th></th>\n",
       "      <th>sentence</th>\n",
       "      <th>difficulty</th>\n",
       "    </tr>\n",
       "  </thead>\n",
       "  <tbody>\n",
       "    <tr>\n",
       "      <th>0</th>\n",
       "      <td>Les coûts kilométriques réels peuvent diverger...</td>\n",
       "      <td>C1</td>\n",
       "    </tr>\n",
       "    <tr>\n",
       "      <th>1</th>\n",
       "      <td>Le bleu, c'est ma couleur préférée mais je n'a...</td>\n",
       "      <td>A1</td>\n",
       "    </tr>\n",
       "    <tr>\n",
       "      <th>2</th>\n",
       "      <td>Le test de niveau en français est sur le site ...</td>\n",
       "      <td>A1</td>\n",
       "    </tr>\n",
       "    <tr>\n",
       "      <th>3</th>\n",
       "      <td>Est-ce que ton mari est aussi de Boston?</td>\n",
       "      <td>A1</td>\n",
       "    </tr>\n",
       "    <tr>\n",
       "      <th>4</th>\n",
       "      <td>Dans les écoles de commerce, dans les couloirs...</td>\n",
       "      <td>B1</td>\n",
       "    </tr>\n",
       "  </tbody>\n",
       "</table>\n",
       "</div>"
      ],
      "text/plain": [
       "                                            sentence difficulty\n",
       "0  Les coûts kilométriques réels peuvent diverger...         C1\n",
       "1  Le bleu, c'est ma couleur préférée mais je n'a...         A1\n",
       "2  Le test de niveau en français est sur le site ...         A1\n",
       "3           Est-ce que ton mari est aussi de Boston?         A1\n",
       "4  Dans les écoles de commerce, dans les couloirs...         B1"
      ]
     },
     "execution_count": 3,
     "metadata": {},
     "output_type": "execute_result"
    }
   ],
   "source": [
    "df.head()"
   ]
  },
  {
   "cell_type": "markdown",
   "metadata": {
    "id": "1kpfbtndj0jL"
   },
   "source": [
    "Have a look at the data on which to make predictions."
   ]
  },
  {
   "cell_type": "code",
   "execution_count": 4,
   "metadata": {
    "colab": {
     "base_uri": "https://localhost:8080/",
     "height": 206
    },
    "id": "7G75Q1gRj49l",
    "outputId": "0fdf7e2a-db10-4cf8-9416-f36f6851a1d2"
   },
   "outputs": [
    {
     "data": {
      "text/html": [
       "<div>\n",
       "<style scoped>\n",
       "    .dataframe tbody tr th:only-of-type {\n",
       "        vertical-align: middle;\n",
       "    }\n",
       "\n",
       "    .dataframe tbody tr th {\n",
       "        vertical-align: top;\n",
       "    }\n",
       "\n",
       "    .dataframe thead th {\n",
       "        text-align: right;\n",
       "    }\n",
       "</style>\n",
       "<table border=\"1\" class=\"dataframe\">\n",
       "  <thead>\n",
       "    <tr style=\"text-align: right;\">\n",
       "      <th></th>\n",
       "      <th>sentence</th>\n",
       "    </tr>\n",
       "  </thead>\n",
       "  <tbody>\n",
       "    <tr>\n",
       "      <th>0</th>\n",
       "      <td>Nous dûmes nous excuser des propos que nous eû...</td>\n",
       "    </tr>\n",
       "    <tr>\n",
       "      <th>1</th>\n",
       "      <td>Vous ne pouvez pas savoir le plaisir que j'ai ...</td>\n",
       "    </tr>\n",
       "    <tr>\n",
       "      <th>2</th>\n",
       "      <td>Et, paradoxalement, boire froid n'est pas la b...</td>\n",
       "    </tr>\n",
       "    <tr>\n",
       "      <th>3</th>\n",
       "      <td>Ce n'est pas étonnant, car c'est une saison my...</td>\n",
       "    </tr>\n",
       "    <tr>\n",
       "      <th>4</th>\n",
       "      <td>Le corps de Golo lui-même, d'une essence aussi...</td>\n",
       "    </tr>\n",
       "  </tbody>\n",
       "</table>\n",
       "</div>"
      ],
      "text/plain": [
       "                                            sentence\n",
       "0  Nous dûmes nous excuser des propos que nous eû...\n",
       "1  Vous ne pouvez pas savoir le plaisir que j'ai ...\n",
       "2  Et, paradoxalement, boire froid n'est pas la b...\n",
       "3  Ce n'est pas étonnant, car c'est une saison my...\n",
       "4  Le corps de Golo lui-même, d'une essence aussi..."
      ]
     },
     "execution_count": 4,
     "metadata": {},
     "output_type": "execute_result"
    }
   ],
   "source": [
    "df_pred = get_dataset.get_unlabelled_data()\n",
    "df_pred.head()"
   ]
  },
  {
   "cell_type": "markdown",
   "metadata": {
    "id": "a37hWJ_ckBlk"
   },
   "source": [
    "And this is the format for your submissions."
   ]
  },
  {
   "cell_type": "code",
   "execution_count": 5,
   "metadata": {
    "colab": {
     "base_uri": "https://localhost:8080/",
     "height": 206
    },
    "id": "gk9H2dLHkFBa",
    "outputId": "e823ec1a-db03-4b6b-ca0c-7f89a93f02a8",
    "scrolled": true
   },
   "outputs": [
    {
     "data": {
      "text/html": [
       "<div>\n",
       "<style scoped>\n",
       "    .dataframe tbody tr th:only-of-type {\n",
       "        vertical-align: middle;\n",
       "    }\n",
       "\n",
       "    .dataframe tbody tr th {\n",
       "        vertical-align: top;\n",
       "    }\n",
       "\n",
       "    .dataframe thead th {\n",
       "        text-align: right;\n",
       "    }\n",
       "</style>\n",
       "<table border=\"1\" class=\"dataframe\">\n",
       "  <thead>\n",
       "    <tr style=\"text-align: right;\">\n",
       "      <th></th>\n",
       "      <th>difficulty</th>\n",
       "    </tr>\n",
       "  </thead>\n",
       "  <tbody>\n",
       "    <tr>\n",
       "      <th>0</th>\n",
       "      <td>A1</td>\n",
       "    </tr>\n",
       "    <tr>\n",
       "      <th>1</th>\n",
       "      <td>A1</td>\n",
       "    </tr>\n",
       "    <tr>\n",
       "      <th>2</th>\n",
       "      <td>A1</td>\n",
       "    </tr>\n",
       "    <tr>\n",
       "      <th>3</th>\n",
       "      <td>A1</td>\n",
       "    </tr>\n",
       "    <tr>\n",
       "      <th>4</th>\n",
       "      <td>A1</td>\n",
       "    </tr>\n",
       "  </tbody>\n",
       "</table>\n",
       "</div>"
      ],
      "text/plain": [
       "  difficulty\n",
       "0         A1\n",
       "1         A1\n",
       "2         A1\n",
       "3         A1\n",
       "4         A1"
      ]
     },
     "execution_count": 5,
     "metadata": {},
     "output_type": "execute_result"
    }
   ],
   "source": [
    "df_example_submission = get_dataset.get_sub_data()\n",
    "\n",
    "df_example_submission.head()"
   ]
  },
  {
   "cell_type": "markdown",
   "metadata": {
    "id": "FfTgL1erjqQ6"
   },
   "source": [
    "### 2. Train your models\n",
    "\n",
    "Set your X and y variables. \n",
    "Set the `random_state=0`\n",
    "Split the data into a train and test set using the following parameters `train_test_split(X, y, test_size=0.2, random_state=0)`.\n",
    "\n",
    "#### 2.1.Baseline\n",
    "What is the baseline for this classification problem? (you can use the highest label frequency from the entire training data, the df above)"
   ]
  },
  {
   "cell_type": "code",
   "execution_count": 6,
   "metadata": {},
   "outputs": [
    {
     "name": "stdout",
     "output_type": "stream",
     "text": [
      "The baseline accuracy is 16.94%\n"
     ]
    }
   ],
   "source": [
    "pred = df.groupby('difficulty').count()\n",
    "baseline_accuracy = pred['sentence'].max()/len(df)\n",
    "print(f'The baseline accuracy is {round(baseline_accuracy*100,2)}%')"
   ]
  },
  {
   "cell_type": "markdown",
   "metadata": {
    "id": "SlvbPYa0k78l"
   },
   "source": [
    "#### 2.2. Logistic Regression (without data cleaning)\n",
    "\n",
    "Train a simple logistic regression model using a Tfidf vectoriser."
   ]
  },
  {
   "cell_type": "code",
   "execution_count": 7,
   "metadata": {
    "id": "t4O_pYiHpiRd"
   },
   "outputs": [],
   "source": [
    "corpus = df['sentence'].tolist()\n",
    "\n",
    "X_train, X_test, y_train, y_test = train_test_split(corpus, df['difficulty'].tolist(),\n",
    "                                                    test_size = 0.2,\n",
    "                                                    random_state = 0)"
   ]
  },
  {
   "cell_type": "code",
   "execution_count": 8,
   "metadata": {
    "id": "eEe3-QNlow4H"
   },
   "outputs": [],
   "source": [
    "pipe = Pipeline([('tfidf', TfidfVectorizer()), ('log_reg', LogisticRegression())])\n",
    "pipe.fit(X_train, y_train)\n",
    "\n",
    "pred = pipe.predict(X_test)"
   ]
  },
  {
   "cell_type": "markdown",
   "metadata": {
    "id": "bZ-qO8C5oyov"
   },
   "source": [
    "Calculate accuracy, precision, recall and F1 score on the test set."
   ]
  },
  {
   "cell_type": "code",
   "execution_count": 9,
   "metadata": {
    "id": "PViIQdnDpASy"
   },
   "outputs": [
    {
     "name": "stdout",
     "output_type": "stream",
     "text": [
      "AxesSubplot(0.125,0.125;0.62x0.755)\n",
      "ACCURACY SCORE:\n",
      "0.4667\n",
      "CLASSIFICATION REPORT:\n",
      "\tPrecision: 0.4645\n",
      "\tRecall: 0.4677\n",
      "\tF1_Score: 0.4640\n"
     ]
    },
    {
     "data": {
      "image/png": "[encoded data removed]",
      "text/plain": [
       "<Figure size 432x288 with 3 Axes>"
      ]
     },
     "metadata": {
      "needs_background": "light"
     },
     "output_type": "display_data"
    }
   ],
   "source": [
    "evaluate(y_test, pred)\n",
    "score, matrix = get_score(y_test, pred, \"Logisitc Regression\")\n",
    "\n",
    "scores.append(score)\n",
    "matrixes.append(matrixes)"
   ]
  },
  {
   "cell_type": "markdown",
   "metadata": {
    "id": "9D3_dp3apcmr"
   },
   "source": [
    "Have a look at the confusion matrix and identify a few examples of sentences that are not well classified."
   ]
  },
  {
   "cell_type": "code",
   "execution_count": 10,
   "metadata": {},
   "outputs": [
    {
     "data": {
      "text/html": [
       "<div>\n",
       "<style scoped>\n",
       "    .dataframe tbody tr th:only-of-type {\n",
       "        vertical-align: middle;\n",
       "    }\n",
       "\n",
       "    .dataframe tbody tr th {\n",
       "        vertical-align: top;\n",
       "    }\n",
       "\n",
       "    .dataframe thead th {\n",
       "        text-align: right;\n",
       "    }\n",
       "</style>\n",
       "<table border=\"1\" class=\"dataframe\">\n",
       "  <thead>\n",
       "    <tr style=\"text-align: right;\">\n",
       "      <th></th>\n",
       "      <th>sentence</th>\n",
       "      <th>true</th>\n",
       "      <th>pred</th>\n",
       "    </tr>\n",
       "  </thead>\n",
       "  <tbody>\n",
       "    <tr>\n",
       "      <th>0</th>\n",
       "      <td>C'est en décembre 1967, après bien des invecti...</td>\n",
       "      <td>C1</td>\n",
       "      <td>C2</td>\n",
       "    </tr>\n",
       "    <tr>\n",
       "      <th>1</th>\n",
       "      <td>Giscard va pourtant réussir à transformer ce r...</td>\n",
       "      <td>C1</td>\n",
       "      <td>B2</td>\n",
       "    </tr>\n",
       "    <tr>\n",
       "      <th>2</th>\n",
       "      <td>Un choix difficile mais important : le public ...</td>\n",
       "      <td>A2</td>\n",
       "      <td>B1</td>\n",
       "    </tr>\n",
       "    <tr>\n",
       "      <th>3</th>\n",
       "      <td>Le débat porte plutôt sur l'utilité d'une tell...</td>\n",
       "      <td>B1</td>\n",
       "      <td>C1</td>\n",
       "    </tr>\n",
       "    <tr>\n",
       "      <th>6</th>\n",
       "      <td>Il faut du temps et du courage pour soigner to...</td>\n",
       "      <td>A2</td>\n",
       "      <td>B1</td>\n",
       "    </tr>\n",
       "  </tbody>\n",
       "</table>\n",
       "</div>"
      ],
      "text/plain": [
       "                                            sentence true pred\n",
       "0  C'est en décembre 1967, après bien des invecti...   C1   C2\n",
       "1  Giscard va pourtant réussir à transformer ce r...   C1   B2\n",
       "2  Un choix difficile mais important : le public ...   A2   B1\n",
       "3  Le débat porte plutôt sur l'utilité d'une tell...   B1   C1\n",
       "6  Il faut du temps et du courage pour soigner to...   A2   B1"
      ]
     },
     "execution_count": 10,
     "metadata": {},
     "output_type": "execute_result"
    }
   ],
   "source": [
    "examples=pd.DataFrame(X_test, columns=[\"sentence\"])\n",
    "examples[\"true\"]=y_test\n",
    "examples[\"pred\"]=pred\n",
    "examples = examples[examples[\"true\"] != examples[\"pred\"]]\n",
    "\n",
    "examples.head()\n"
   ]
  },
  {
   "cell_type": "markdown",
   "metadata": {
    "id": "9TTEiuXasNFg"
   },
   "source": [
    "Generate your first predictions on the `unlabelled_test_data.csv`. make sure your predictions match the format of the `unlabelled_test_data.csv`."
   ]
  },
  {
   "cell_type": "code",
   "execution_count": 11,
   "metadata": {},
   "outputs": [],
   "source": [
    "unlabelled = get_dataset.get_unlabelled_data()\n",
    "pred = pipe.predict(unlabelled['sentence'].tolist())\n",
    "\n",
    "log_reg = pd.DataFrame(pred, columns=['difficulty'])\n",
    "log_reg=log_reg.rename_axis(\"id\", inplace=False)\n",
    "log_reg.to_csv('log_reg_pred.csv')"
   ]
  },
  {
   "cell_type": "markdown",
   "metadata": {
    "id": "vXG_yIG_pQ8t"
   },
   "source": [
    "#### 2.3. KNN (without data cleaning)\n",
    "\n",
    "Train a KNN classification model using a Tfidf vectoriser. Show the accuracy, precision, recall and F1 score on the test set."
   ]
  },
  {
   "cell_type": "code",
   "execution_count": 12,
   "metadata": {
    "id": "GPRjD1rSqKKZ"
   },
   "outputs": [
    {
     "name": "stdout",
     "output_type": "stream",
     "text": [
      "AxesSubplot(0.125,0.125;0.62x0.755)\n",
      "ACCURACY SCORE:\n",
      "0.3187\n",
      "CLASSIFICATION REPORT:\n",
      "\tPrecision: 0.4007\n",
      "\tRecall: 0.3183\n",
      "\tF1_Score: 0.3022\n"
     ]
    },
    {
     "data": {
      "image/png": "[encoded data removed]",
      "text/plain": [
       "<Figure size 432x288 with 2 Axes>"
      ]
     },
     "metadata": {
      "needs_background": "light"
     },
     "output_type": "display_data"
    }
   ],
   "source": [
    "KNN = KNeighborsClassifier()\n",
    "pipe = Pipeline([('tfidf', TfidfVectorizer()), ('KNN', KNN)])\n",
    "\n",
    "pipe.fit(X_train, y_train)\n",
    "pred = pipe.predict(X_test)\n",
    "evaluate(y_test, pred)\n"
   ]
  },
  {
   "cell_type": "markdown",
   "metadata": {
    "id": "D6rH2Hx0qtB2"
   },
   "source": [
    "Try to improve it by tuning the hyper parameters (`n_neighbors`,   `p`, `weights`)."
   ]
  },
  {
   "cell_type": "code",
   "execution_count": 13,
   "metadata": {},
   "outputs": [
    {
     "name": "stdout",
     "output_type": "stream",
     "text": [
      "Best hyperparameters: {'n_neighbors': 11, 'p': 2, 'weights': 'distance'}\n",
      "AxesSubplot(0.125,0.125;0.62x0.755)\n",
      "ACCURACY SCORE:\n",
      "0.3542\n",
      "CLASSIFICATION REPORT:\n",
      "\tPrecision: 0.4197\n",
      "\tRecall: 0.3543\n",
      "\tF1_Score: 0.3450\n"
     ]
    },
    {
     "data": {
      "image/png": "[encoded data removed]",
      "text/plain": [
       "<Figure size 432x288 with 3 Axes>"
      ]
     },
     "metadata": {
      "needs_background": "light"
     },
     "output_type": "display_data"
    }
   ],
   "source": [
    "knn_grid = {'n_neighbors' : np.arange(1,500,5),\n",
    "            'p': np.arange(1,3),\n",
    "            'weights' : ['uniform', 'distance']}\n",
    "\n",
    "KNN = KNeighborsClassifier()\n",
    "KNN_CV = GridSearchCV(KNN, knn_grid, cv = 5)\n",
    "pipe = Pipeline([('tfidf', TfidfVectorizer()), ('KNN', KNN_CV)])\n",
    "\n",
    "pipe.fit(X_train, y_train)\n",
    "print('Best hyperparameters:', KNN_CV.best_params_)\n",
    "pred = pipe.predict(X_test)\n",
    "\n",
    "\n",
    "evaluate(y_test, pred)\n",
    "score, matrix = get_score(y_test, pred, \"KNN\")\n",
    "\n",
    "scores.append(score)\n",
    "matrixes.append(matrixes)"
   ]
  },
  {
   "cell_type": "markdown",
   "metadata": {
    "id": "FFNH1WgNqc62"
   },
   "source": [
    "#### 2.4. Decision Tree Classifier (without data cleaning)\n",
    "\n",
    "Train a Decison Tree classifier, using a Tfidf vectoriser. Show the accuracy, precision, recall and F1 score on the test set."
   ]
  },
  {
   "cell_type": "code",
   "execution_count": 14,
   "metadata": {
    "id": "d4PByPdGq0FV"
   },
   "outputs": [
    {
     "name": "stdout",
     "output_type": "stream",
     "text": [
      "AxesSubplot(0.125,0.125;0.62x0.755)\n",
      "ACCURACY SCORE:\n",
      "0.2948\n",
      "CLASSIFICATION REPORT:\n",
      "\tPrecision: 0.2983\n",
      "\tRecall: 0.2945\n",
      "\tF1_Score: 0.2933\n"
     ]
    },
    {
     "data": {
      "image/png": "[encoded data removed]",
      "text/plain": [
       "<Figure size 432x288 with 2 Axes>"
      ]
     },
     "metadata": {
      "needs_background": "light"
     },
     "output_type": "display_data"
    }
   ],
   "source": [
    "pipe = Pipeline([('tfidf', TfidfVectorizer()), ('decision_tree', DecisionTreeClassifier())])\n",
    "pipe.fit(X_train, y_train)\n",
    "\n",
    "pred = pipe.predict(X_test)\n",
    "evaluate(y_test, pred)"
   ]
  },
  {
   "cell_type": "markdown",
   "metadata": {
    "id": "yQHjvOp7q11L"
   },
   "source": [
    "Try to improve it by tuning the hyper parameters (`max_depth`, the depth of the decision tree)."
   ]
  },
  {
   "cell_type": "code",
   "execution_count": 15,
   "metadata": {
    "id": "x1Fzl5BUq8JN"
   },
   "outputs": [
    {
     "name": "stdout",
     "output_type": "stream",
     "text": [
      "Hyperparameters: {'max_depth': 805}\n",
      "AxesSubplot(0.125,0.125;0.62x0.755)\n",
      "ACCURACY SCORE:\n",
      "0.3125\n",
      "CLASSIFICATION REPORT:\n",
      "\tPrecision: 0.3121\n",
      "\tRecall: 0.3130\n",
      "\tF1_Score: 0.3095\n"
     ]
    },
    {
     "data": {
      "image/png": "[encoded data removed]",
      "text/plain": [
       "<Figure size 432x288 with 3 Axes>"
      ]
     },
     "metadata": {
      "needs_background": "light"
     },
     "output_type": "display_data"
    }
   ],
   "source": [
    "grid_tree = {'max_depth': np.arange(5,1000, 50)}\n",
    "\n",
    "dec_tree = DecisionTreeClassifier()\n",
    "dec_tree_CV = GridSearchCV(dec_tree, grid_tree, cv = 5)\n",
    "pipe = Pipeline([('tfidf', TfidfVectorizer()), ('decision_tree_CV', dec_tree_CV)])\n",
    "\n",
    "pipe.fit(X_train, y_train)\n",
    "pred = pipe.predict(X_test)\n",
    "print(\"Hyperparameters:\", dec_tree_CV.best_params_)\n",
    "evaluate(y_test, pred)\n",
    "\n",
    "score, matrix = get_score(y_test, pred, \"Decision Tree\")\n",
    "\n",
    "scores.append(score)\n",
    "matrixes.append(matrixes)"
   ]
  },
  {
   "cell_type": "markdown",
   "metadata": {
    "id": "M52Ys3hcq7ku"
   },
   "source": [
    "#### 2.5. Random Forest Classifier (without data cleaning)\n",
    "\n",
    "Try a Random Forest Classifier, using a Tfidf vectoriser. Show the accuracy, precision, recall and F1 score on the test set."
   ]
  },
  {
   "cell_type": "code",
   "execution_count": 16,
   "metadata": {
    "id": "sssF4NIGrNLa"
   },
   "outputs": [
    {
     "name": "stdout",
     "output_type": "stream",
     "text": [
      "AxesSubplot(0.125,0.125;0.62x0.755)\n",
      "ACCURACY SCORE:\n",
      "0.4260\n",
      "CLASSIFICATION REPORT:\n",
      "\tPrecision: 0.4327\n",
      "\tRecall: 0.4284\n",
      "\tF1_Score: 0.4147\n"
     ]
    },
    {
     "data": {
      "image/png": "[encoded data removed]",
      "text/plain": [
       "<Figure size 432x288 with 3 Axes>"
      ]
     },
     "metadata": {
      "needs_background": "light"
     },
     "output_type": "display_data"
    }
   ],
   "source": [
    "random_forest_classifier = RandomForestClassifier()\n",
    "pipe = Pipeline([('tfidf', TfidfVectorizer()), ('random_forest_clf', random_forest_classifier)])\n",
    "pipe.fit(X_train, y_train)\n",
    "pred = pipe.predict(X_test)\n",
    "evaluate(y_test, pred)\n",
    "\n",
    "score, matrix = get_score(y_test, pred, \"Random Forest\")\n",
    "\n",
    "scores.append(score)\n",
    "matrixes.append(matrixes)"
   ]
  },
  {
   "cell_type": "markdown",
   "metadata": {
    "id": "z-8_3MK1rpZr"
   },
   "source": [
    "#### 2.6. Any other technique, including data cleaning if necessary\n",
    "\n",
    "Try to improve accuracy by training a better model using the techniques seen in class, or combinations of them.\n",
    "\n",
    "As usual, show the accuracy, precision, recall and f1 score on the test set.\n",
    "\n",
    "----------------------------------------------------------------------------------------------------------------"
   ]
  },
  {
   "cell_type": "markdown",
   "metadata": {
    "id": "z-8_3MK1rpZr"
   },
   "source": [
    "The classifier we chose for this challenge is the Keras neural classifier from the Keras library. While begin extremely powerful and evolutive, this classifier is using the keras API which is a very high level deep learning API and a good entry point for newbies in the field (very much like us). We did not have time to dig too deep into this API but we managed to get some pretty good results from this classifier.\n",
    "\n",
    "Our classifier uses layers of neurons in a sequential fashion. This basically help us break down a very complex math problem (the classification of difficulties) into smaller equations to be able to process it. We used only a single layer of neurons which gave us the best predicitons.\n",
    "\n",
    "\n",
    "The first thing we have to do is to import all of the data from the train set."
   ]
  },
  {
   "cell_type": "code",
   "execution_count": 17,
   "metadata": {
    "id": "wX5AjvvKr_nW"
   },
   "outputs": [],
   "source": [
    "data = get_dataset.get_train_data()"
   ]
  },
  {
   "cell_type": "markdown",
   "metadata": {
    "id": "z-8_3MK1rpZr"
   },
   "source": [
    "Now we create the features of our classifier. Those are the following:\n",
    "\n",
    "--------------------------------------------------------------------------------------------------------------------------\n",
    "\n",
    "**type_counter(data)**\n",
    "\n",
    "This feature counts the number of occurences of each type of word in a given sentence (nouns, pronouns, ...) and assigns it the difficulty of the sentence.\n",
    "\n",
    "---------------------------------------------------------------------------------------------------------------------------\n",
    "\n",
    "**vectorizer(data)**\n",
    "\n",
    "This is a spacy vectorizer which tokenizes each sentence and creates a vectorized representation of those tokens. This vectorizer is more precise than the sk_vec and has more features\n",
    "\n",
    "---------------------------------------------------------------------------------------------------------------------------\n",
    "\n",
    "**sk_vec(data)**\n",
    "\n",
    "This is the sklearn vectorizer. It transforms words into simple vectors. We alos used this vectorizer to process bi-grams\n",
    "\n",
    "---------------------------------------------------------------------------------------------------------------------------\n",
    "\n",
    "**word_len_counter(data)**\n",
    "\n",
    "This features is a counter of length for both words and sentences. We assume that simpler sentences are usually shorter while longer phrases are usually way longer and have longer words.\n",
    "\n",
    "---------------------------------------------------------------------------------------------------------------------------\n",
    "\n",
    "\n",
    "\n",
    "\n",
    "We also use several other functions which are:\n",
    "\n",
    "**prepare_output(data)**\n",
    "\n",
    "This function process the input data and transforms it into usable data for the classifier (mapping the difficulties into either a label encoding or a 1-hot-encoding)\n",
    "\n",
    "----------------------------------------------------------------------------------------------------------------------------\n",
    "\n",
    "\n",
    "**get_score(true, pred, classifier_name)**\n",
    "\n",
    "Just so we can create a table with all the results (see code for more info)\n",
    "\n",
    "----------------------------------------------------------------------------------------------------------------------------\n",
    "\n",
    "\n",
    "We also used a filter we found on stackoverflow (**remove_tokens_on_match(doc)**) to remove specific types of words from our data. After manual observation on the badly predicted sentences, we saw that a lot of B2 sentences were wrong compared to other difficulties, but also that a lot of sentences with proper nouns we not predicted correctly. We filtered both the punctuation and the proper nouns from our dataset, and the issue resolved itslef (there were approximatly 30% more B2 phrases that were badly estimated before we used the filter)\n",
    "\n",
    "After all the testing, we lastly implemented the bigram feature, which increased our accuracy by nearly 10%. Bigger Ngrams were ineffective and even decreased precision\n",
    "\n",
    "Those features were all matrixes in a shape of  N x Number of sentences, with N varying for each feature.\n",
    "\n",
    "Since those features all have the same column length, we are able to aggregate them into one feature to pass it to the classifier.\n",
    "\n",
    "*More info on all the fucntions can be found in the .py corresponding file*\n",
    "\n",
    "\n",
    "**Important notes:**\n",
    "\n",
    "- We did not remove stopwords because sentences were sometimes too short (especially A1 sentences). We tested it and accuracy was always marginally lower\n",
    "- We tried a number of features combination but the best results were always the full combination of the 4 features implemented.\n",
    "- Since the processing of those models is rather power hungry in terms of ressources, we could not test the full potential of the model. All the testing was done manually when it came to hyperparamters.\n",
    "- The features for our model are not well fitted to be used with the other classifiers.\n",
    "- We sometimes use \"unlabelled\" functions. Those are relevant for the final prediction because we use 2 different dataset (one for fitting and one for predicting) and not a single one splitted into 2 to fit and transform.\n"
   ]
  },
  {
   "cell_type": "code",
   "execution_count": 18,
   "metadata": {},
   "outputs": [
    {
     "name": "stdout",
     "output_type": "stream",
     "text": [
      "Feature 1 is done computing\n",
      "Feature 2 is done computing\n",
      "Feature 3 is done computing\n",
      "Feature 4 is done computing\n",
      "Features ready to be used\n"
     ]
    }
   ],
   "source": [
    "feature1 = type_counter(data)\n",
    "print(\"Feature 1 is done computing\")\n",
    "feature2 = vectorizer(data)\n",
    "print(\"Feature 2 is done computing\")\n",
    "feature3 = word_len_counter(data)\n",
    "print(\"Feature 3 is done computing\")\n",
    "feature4 = sk_vec(data)\n",
    "print(\"Feature 4 is done computing\")\n",
    "feature = np.concatenate((feature1, feature2),axis = 1)\n",
    "feature = np.concatenate((feature, feature3), axis = 1)\n",
    "feature = np.concatenate((feature, feature4), axis = 1)\n",
    "\n",
    "print(\"Features ready to be used\")"
   ]
  },
  {
   "cell_type": "code",
   "execution_count": 19,
   "metadata": {},
   "outputs": [
    {
     "name": "stdout",
     "output_type": "stream",
     "text": [
      "Data ready to be used\n"
     ]
    }
   ],
   "source": [
    "y1, y2 = prepare_output(data)\n",
    "print(\"Data ready to be used\")"
   ]
  },
  {
   "cell_type": "code",
   "execution_count": 20,
   "metadata": {},
   "outputs": [
    {
     "name": "stdout",
     "output_type": "stream",
     "text": [
      "Data has been split\n"
     ]
    }
   ],
   "source": [
    "#X_train\n",
    "feature_train = np.array(feature[:4000])\n",
    "\n",
    "#y_train\n",
    "y2_train = np.asarray(y2[:4000])\n",
    "y1_train = np.asarray(y1[:4000])\n",
    "\n",
    "#X_test\n",
    "feature_test = np.array(feature[4000:])\n",
    "\n",
    "#y_test\n",
    "y2_test = np.asarray(y2[4000:])\n",
    "y1_test = np.asarray(y1[4000:])\n",
    "\n",
    "print(\"Data has been split\")"
   ]
  },
  {
   "cell_type": "markdown",
   "metadata": {
    "id": "z-8_3MK1rpZr"
   },
   "source": [
    "The sequential model from keras is made of linear stacks of layers of neurons connected to eachother by what are called snyapses. Neurons receive inputs, then compute the input into an output and transmit the output to another neuron through the synapse.  Those synapses each have a weight, which represents it's impact on the final computation of the input. Basically, if you input data to those neurons layers, they will break down an extensive and complicated input into a simpler output.\n",
    "\n",
    "We only use basic keras layers which are the Dense layers (standards neural layers) and the dropout layers (they deactivate a percentage of the synapses to prevent overfit). Each layer must be defined by a number of neurons (units) and an activator (\n",
    "\n",
    "To create a model, we have to specify the input shape of the data (only on the first layer), the number of neurons in the layer and the activator (takes the output and convert it into a form that is readable by the next layer). With this, each neuron will have it's own activation function. Activation functions are very important because it lets the classifier produce a nonlinear decision boundary. Linear decision boundaries would be much less precise and are useless in this kind of decisions.\n",
    "\n",
    "To fit the model, we also have to set an optimizer (we use Adamax, basically a gradient descent) and a loss function."
   ]
  },
  {
   "cell_type": "markdown",
   "metadata": {
    "id": "z-8_3MK1rpZr"
   },
   "source": [
    "The outpout of our model is formed based on the probability of each sentence begin in class.\n",
    "For example, if my model outputs those prababilites :[0.1, 0.1, 0.2, 0.5], it means that my sentence has a 10% chance to be in the class 0, 10% chance to be in the class 1, 20% chance to be in the class and 50% chance to be in the class 0. This means we have to get the highest probable class and keep it as the predicted class for the sentence.\n",
    "\n",
    "Then, just so we can read the data, we have to convert it back from label to difficulties. with:\n",
    "\n",
    "*reverse={0:\"A1\", 1:\"A2\", 2:\"B1\",3:\"B2\",4:\"C1\", 5:\"C2\"}*\n",
    "\n",
    "Please note that the result will vary each time the sequential model is ran. There will be some differences with the final look of the table."
   ]
  },
  {
   "cell_type": "code",
   "execution_count": 21,
   "metadata": {
    "scrolled": true
   },
   "outputs": [
    {
     "name": "stdout",
     "output_type": "stream",
     "text": [
      "Model: \"sequential\"\n",
      "_________________________________________________________________\n",
      " Layer (type)                Output Shape              Param #   \n",
      "=================================================================\n",
      " dense (Dense)               (None, 32)                2171264   \n",
      "                                                                 \n",
      " dropout (Dropout)           (None, 32)                0         \n",
      "                                                                 \n",
      " dense_1 (Dense)             (None, 6)                 198       \n",
      "                                                                 \n",
      "=================================================================\n",
      "Total params: 2,171,462\n",
      "Trainable params: 2,171,462\n",
      "Non-trainable params: 0\n",
      "_________________________________________________________________\n",
      "None\n",
      "Epoch 1/75\n",
      "500/500 [==============================] - 5s 7ms/step - loss: 1.5477 - accuracy: 0.3185 - val_loss: 1.3658 - val_accuracy: 0.5000\n",
      "Epoch 2/75\n",
      "500/500 [==============================] - 4s 7ms/step - loss: 1.4347 - accuracy: 0.3602 - val_loss: 1.2809 - val_accuracy: 0.4750\n",
      "Epoch 3/75\n",
      "500/500 [==============================] - 3s 7ms/step - loss: 1.4080 - accuracy: 0.3837 - val_loss: 1.2446 - val_accuracy: 0.5000\n",
      "Epoch 4/75\n",
      "500/500 [==============================] - 3s 7ms/step - loss: 1.3522 - accuracy: 0.3945 - val_loss: 1.2344 - val_accuracy: 0.5500\n",
      "Epoch 5/75\n",
      "500/500 [==============================] - 3s 7ms/step - loss: 1.3159 - accuracy: 0.4202 - val_loss: 1.2200 - val_accuracy: 0.4250\n",
      "Epoch 6/75\n",
      "500/500 [==============================] - 3s 7ms/step - loss: 1.2926 - accuracy: 0.4207 - val_loss: 1.2110 - val_accuracy: 0.5250\n",
      "Epoch 7/75\n",
      "500/500 [==============================] - 3s 7ms/step - loss: 1.2624 - accuracy: 0.4350 - val_loss: 1.2026 - val_accuracy: 0.4250\n",
      "Epoch 8/75\n",
      "500/500 [==============================] - 3s 7ms/step - loss: 1.2233 - accuracy: 0.4597 - val_loss: 1.1574 - val_accuracy: 0.4500\n",
      "Epoch 9/75\n",
      "500/500 [==============================] - 3s 7ms/step - loss: 1.2078 - accuracy: 0.4645 - val_loss: 1.1699 - val_accuracy: 0.4250\n",
      "Epoch 10/75\n",
      "500/500 [==============================] - 3s 7ms/step - loss: 1.1803 - accuracy: 0.4807 - val_loss: 1.1436 - val_accuracy: 0.4250\n",
      "Epoch 11/75\n",
      "500/500 [==============================] - 3s 7ms/step - loss: 1.1773 - accuracy: 0.4790 - val_loss: 1.1447 - val_accuracy: 0.4500\n",
      "Epoch 12/75\n",
      "500/500 [==============================] - 3s 7ms/step - loss: 1.1521 - accuracy: 0.4933 - val_loss: 1.1525 - val_accuracy: 0.5000\n",
      "Epoch 13/75\n",
      "500/500 [==============================] - 4s 7ms/step - loss: 1.1150 - accuracy: 0.5165 - val_loss: 1.1617 - val_accuracy: 0.4750\n",
      "Epoch 14/75\n",
      "500/500 [==============================] - 4s 7ms/step - loss: 1.0980 - accuracy: 0.5253 - val_loss: 1.1573 - val_accuracy: 0.4250\n",
      "Epoch 15/75\n",
      "500/500 [==============================] - 3s 7ms/step - loss: 1.0845 - accuracy: 0.5343 - val_loss: 1.1535 - val_accuracy: 0.4750\n",
      "Epoch 16/75\n",
      "500/500 [==============================] - 4s 7ms/step - loss: 1.0731 - accuracy: 0.5483 - val_loss: 1.1224 - val_accuracy: 0.4500\n",
      "Epoch 17/75\n",
      "500/500 [==============================] - 4s 7ms/step - loss: 1.0402 - accuracy: 0.5545 - val_loss: 1.1445 - val_accuracy: 0.3750\n",
      "Epoch 18/75\n",
      "500/500 [==============================] - 4s 7ms/step - loss: 1.0235 - accuracy: 0.5633 - val_loss: 1.1403 - val_accuracy: 0.4250\n",
      "Epoch 19/75\n",
      "500/500 [==============================] - 4s 7ms/step - loss: 1.0150 - accuracy: 0.5763 - val_loss: 1.1452 - val_accuracy: 0.4000\n",
      "Epoch 20/75\n",
      "500/500 [==============================] - 4s 7ms/step - loss: 1.0064 - accuracy: 0.5792 - val_loss: 1.1629 - val_accuracy: 0.4250\n",
      "Epoch 21/75\n",
      "500/500 [==============================] - 3s 7ms/step - loss: 0.9650 - accuracy: 0.5978 - val_loss: 1.1235 - val_accuracy: 0.5000\n",
      "Epoch 22/75\n",
      "500/500 [==============================] - 3s 7ms/step - loss: 0.9558 - accuracy: 0.5855 - val_loss: 1.1261 - val_accuracy: 0.5000\n",
      "Epoch 23/75\n",
      "500/500 [==============================] - 3s 7ms/step - loss: 0.9494 - accuracy: 0.6018 - val_loss: 1.0797 - val_accuracy: 0.5000\n",
      "Epoch 24/75\n",
      "500/500 [==============================] - 3s 7ms/step - loss: 0.9333 - accuracy: 0.6045 - val_loss: 1.0630 - val_accuracy: 0.4750\n",
      "Epoch 25/75\n",
      "500/500 [==============================] - 4s 7ms/step - loss: 0.9192 - accuracy: 0.6162 - val_loss: 1.1025 - val_accuracy: 0.5250\n",
      "Epoch 26/75\n",
      "500/500 [==============================] - 4s 7ms/step - loss: 0.8795 - accuracy: 0.6400 - val_loss: 1.0620 - val_accuracy: 0.4250\n",
      "Epoch 27/75\n",
      "500/500 [==============================] - 3s 7ms/step - loss: 0.8789 - accuracy: 0.6338 - val_loss: 1.0736 - val_accuracy: 0.5000\n",
      "Epoch 28/75\n",
      "500/500 [==============================] - 4s 7ms/step - loss: 0.8696 - accuracy: 0.6280 - val_loss: 1.0790 - val_accuracy: 0.5750\n",
      "Epoch 29/75\n",
      "500/500 [==============================] - 3s 7ms/step - loss: 0.8320 - accuracy: 0.6553 - val_loss: 1.1034 - val_accuracy: 0.5000\n",
      "Epoch 30/75\n",
      "500/500 [==============================] - 4s 7ms/step - loss: 0.8182 - accuracy: 0.6622 - val_loss: 1.0926 - val_accuracy: 0.4750\n",
      "Epoch 31/75\n",
      "500/500 [==============================] - 4s 7ms/step - loss: 0.8193 - accuracy: 0.6560 - val_loss: 1.0852 - val_accuracy: 0.5250\n",
      "Epoch 32/75\n",
      "500/500 [==============================] - 4s 7ms/step - loss: 0.7956 - accuracy: 0.6750 - val_loss: 1.0943 - val_accuracy: 0.4250\n",
      "Epoch 33/75\n",
      "500/500 [==============================] - 4s 7ms/step - loss: 0.7931 - accuracy: 0.6760 - val_loss: 1.0970 - val_accuracy: 0.5250\n",
      "Epoch 34/75\n",
      "500/500 [==============================] - 3s 7ms/step - loss: 0.7505 - accuracy: 0.6933 - val_loss: 1.0719 - val_accuracy: 0.5250\n",
      "Epoch 35/75\n",
      "500/500 [==============================] - 3s 7ms/step - loss: 0.7502 - accuracy: 0.7010 - val_loss: 1.0383 - val_accuracy: 0.6000\n",
      "Epoch 36/75\n",
      "500/500 [==============================] - 4s 7ms/step - loss: 0.7335 - accuracy: 0.7053 - val_loss: 1.0862 - val_accuracy: 0.5250\n",
      "Epoch 37/75\n",
      "500/500 [==============================] - 4s 7ms/step - loss: 0.7236 - accuracy: 0.7063 - val_loss: 1.0107 - val_accuracy: 0.5750\n",
      "Epoch 38/75\n",
      "500/500 [==============================] - 4s 7ms/step - loss: 0.7222 - accuracy: 0.7128 - val_loss: 1.0304 - val_accuracy: 0.5750\n",
      "Epoch 39/75\n",
      "500/500 [==============================] - 3s 7ms/step - loss: 0.6883 - accuracy: 0.7253 - val_loss: 0.9766 - val_accuracy: 0.6250\n",
      "Epoch 40/75\n",
      "500/500 [==============================] - 4s 7ms/step - loss: 0.6828 - accuracy: 0.7287 - val_loss: 1.0913 - val_accuracy: 0.5500\n",
      "Epoch 41/75\n",
      "500/500 [==============================] - 3s 7ms/step - loss: 0.6777 - accuracy: 0.7310 - val_loss: 1.0288 - val_accuracy: 0.6000\n",
      "Epoch 42/75\n",
      "500/500 [==============================] - 4s 7ms/step - loss: 0.6539 - accuracy: 0.7370 - val_loss: 1.0319 - val_accuracy: 0.5750\n",
      "Epoch 43/75\n",
      "500/500 [==============================] - 3s 7ms/step - loss: 0.6570 - accuracy: 0.7408 - val_loss: 1.0215 - val_accuracy: 0.5500\n",
      "Epoch 44/75\n",
      "500/500 [==============================] - 4s 7ms/step - loss: 0.6212 - accuracy: 0.7560 - val_loss: 1.0625 - val_accuracy: 0.5250\n",
      "Epoch 45/75\n",
      "500/500 [==============================] - 4s 7ms/step - loss: 0.6235 - accuracy: 0.7487 - val_loss: 1.1093 - val_accuracy: 0.5250\n",
      "Epoch 46/75\n",
      "500/500 [==============================] - 4s 7ms/step - loss: 0.6150 - accuracy: 0.7590 - val_loss: 1.0482 - val_accuracy: 0.5750\n",
      "Epoch 47/75\n",
      "500/500 [==============================] - 4s 7ms/step - loss: 0.5992 - accuracy: 0.7582 - val_loss: 1.0913 - val_accuracy: 0.5250\n",
      "Epoch 48/75\n",
      "500/500 [==============================] - 4s 7ms/step - loss: 0.5913 - accuracy: 0.7747 - val_loss: 1.0859 - val_accuracy: 0.5500\n",
      "Epoch 49/75\n",
      "500/500 [==============================] - 4s 7ms/step - loss: 0.5796 - accuracy: 0.7667 - val_loss: 1.0991 - val_accuracy: 0.5500\n",
      "Epoch 50/75\n",
      "500/500 [==============================] - 4s 7ms/step - loss: 0.5570 - accuracy: 0.7805 - val_loss: 1.0897 - val_accuracy: 0.5000\n",
      "Epoch 51/75\n",
      "500/500 [==============================] - 4s 7ms/step - loss: 0.5544 - accuracy: 0.7865 - val_loss: 0.9804 - val_accuracy: 0.5750\n",
      "Epoch 52/75\n",
      "500/500 [==============================] - 4s 7ms/step - loss: 0.5603 - accuracy: 0.7780 - val_loss: 1.0869 - val_accuracy: 0.5750\n",
      "Epoch 53/75\n",
      "500/500 [==============================] - 4s 7ms/step - loss: 0.5386 - accuracy: 0.7847 - val_loss: 1.0263 - val_accuracy: 0.5750\n",
      "Epoch 54/75\n",
      "500/500 [==============================] - 3s 7ms/step - loss: 0.5407 - accuracy: 0.7918 - val_loss: 1.0348 - val_accuracy: 0.5750\n",
      "Epoch 55/75\n",
      "500/500 [==============================] - 3s 7ms/step - loss: 0.5431 - accuracy: 0.7908 - val_loss: 1.1016 - val_accuracy: 0.5750\n",
      "Epoch 56/75\n",
      "500/500 [==============================] - 3s 7ms/step - loss: 0.5303 - accuracy: 0.7958 - val_loss: 1.1015 - val_accuracy: 0.5250\n",
      "Epoch 57/75\n",
      "500/500 [==============================] - 3s 7ms/step - loss: 0.5088 - accuracy: 0.7977 - val_loss: 1.0573 - val_accuracy: 0.5750\n",
      "Epoch 58/75\n",
      "500/500 [==============================] - 4s 7ms/step - loss: 0.4871 - accuracy: 0.8125 - val_loss: 1.0030 - val_accuracy: 0.5250\n",
      "Epoch 59/75\n",
      "500/500 [==============================] - 4s 7ms/step - loss: 0.4948 - accuracy: 0.8065 - val_loss: 1.0779 - val_accuracy: 0.5500\n",
      "Epoch 60/75\n",
      "500/500 [==============================] - 3s 7ms/step - loss: 0.4759 - accuracy: 0.8250 - val_loss: 1.1313 - val_accuracy: 0.5500\n",
      "Epoch 61/75\n",
      "500/500 [==============================] - 3s 7ms/step - loss: 0.4669 - accuracy: 0.8282 - val_loss: 1.0299 - val_accuracy: 0.5000\n",
      "Epoch 62/75\n",
      "500/500 [==============================] - 4s 7ms/step - loss: 0.4694 - accuracy: 0.8248 - val_loss: 1.1195 - val_accuracy: 0.5500\n",
      "Epoch 63/75\n",
      "500/500 [==============================] - 3s 7ms/step - loss: 0.4672 - accuracy: 0.8235 - val_loss: 1.0699 - val_accuracy: 0.6000\n",
      "Epoch 64/75\n",
      "500/500 [==============================] - 3s 7ms/step - loss: 0.4474 - accuracy: 0.8390 - val_loss: 1.1435 - val_accuracy: 0.5500\n",
      "Epoch 65/75\n",
      "500/500 [==============================] - 3s 7ms/step - loss: 0.4397 - accuracy: 0.8350 - val_loss: 1.1457 - val_accuracy: 0.5750\n",
      "Epoch 66/75\n",
      "500/500 [==============================] - 3s 7ms/step - loss: 0.4242 - accuracy: 0.8443 - val_loss: 1.1578 - val_accuracy: 0.5250\n",
      "Epoch 67/75\n",
      "500/500 [==============================] - 3s 7ms/step - loss: 0.4414 - accuracy: 0.8313 - val_loss: 1.0617 - val_accuracy: 0.5500\n",
      "Epoch 68/75\n",
      "500/500 [==============================] - 3s 7ms/step - loss: 0.4287 - accuracy: 0.8397 - val_loss: 1.1721 - val_accuracy: 0.5250\n",
      "Epoch 69/75\n",
      "500/500 [==============================] - 3s 7ms/step - loss: 0.4195 - accuracy: 0.8395 - val_loss: 1.0983 - val_accuracy: 0.5500\n",
      "Epoch 70/75\n",
      "500/500 [==============================] - 3s 7ms/step - loss: 0.4077 - accuracy: 0.8503 - val_loss: 1.1018 - val_accuracy: 0.5500\n",
      "Epoch 71/75\n",
      "500/500 [==============================] - 3s 7ms/step - loss: 0.3972 - accuracy: 0.8568 - val_loss: 1.2124 - val_accuracy: 0.6000\n",
      "Epoch 72/75\n",
      "500/500 [==============================] - 3s 7ms/step - loss: 0.4084 - accuracy: 0.8462 - val_loss: 1.1835 - val_accuracy: 0.5750\n",
      "Epoch 73/75\n",
      "500/500 [==============================] - 4s 7ms/step - loss: 0.3841 - accuracy: 0.8627 - val_loss: 1.3102 - val_accuracy: 0.4500\n",
      "Epoch 74/75\n",
      "500/500 [==============================] - 3s 7ms/step - loss: 0.4045 - accuracy: 0.8540 - val_loss: 1.1060 - val_accuracy: 0.5750\n",
      "Epoch 75/75\n",
      "121/500 [======>.......................] - ETA: 2s - loss: 0.3794 - accuracy: 0.8585WARNING:tensorflow:Your input ran out of data; interrupting training. Make sure that your dataset or generator can generate at least `steps_per_epoch * epochs` batches (in this case, 37500 batches). You may need to use the repeat() function when building your dataset.\n",
      "500/500 [==============================] - 2s 4ms/step - loss: 0.3757 - accuracy: 0.8620 - val_loss: 1.1271 - val_accuracy: 0.5500\n"
     ]
    },
    {
     "data": {
      "text/plain": [
       "<keras.callbacks.History at 0x1e956c9ebe0>"
      ]
     },
     "execution_count": 21,
     "metadata": {},
     "output_type": "execute_result"
    }
   ],
   "source": [
    "model = keras.Sequential([\n",
    "    keras.layers.Dense(input_shape = feature_train[0].shape, units=32, activation='relu'),\n",
    "    keras.layers.Dropout(0.5),\n",
    "    keras.layers.Dense(units=6, activation='softmax')\n",
    "    \n",
    "])\n",
    "\n",
    "print(model.summary())\n",
    "model.compile(optimizer='adamax', \n",
    "              loss=tf.losses.CategoricalCrossentropy(),\n",
    "              metrics=['accuracy'])\n",
    "model.fit(np.asarray(feature_train), np.asarray(y2_train), epochs = 75, steps_per_epoch = 500, validation_split=0.01)"
   ]
  },
  {
   "cell_type": "code",
   "execution_count": 23,
   "metadata": {},
   "outputs": [
    {
     "name": "stdout",
     "output_type": "stream",
     "text": [
      "AxesSubplot(0.125,0.125;0.62x0.755)\n",
      "ACCURACY SCORE:\n",
      "0.5075\n",
      "CLASSIFICATION REPORT:\n",
      "\tPrecision: 0.5147\n",
      "\tRecall: 0.5125\n",
      "\tF1_Score: 0.5064\n"
     ]
    },
    {
     "data": {
      "image/png": "[encoded data removed]",
      "text/plain": [
       "<Figure size 432x288 with 3 Axes>"
      ]
     },
     "metadata": {
      "needs_background": "light"
     },
     "output_type": "display_data"
    }
   ],
   "source": [
    "pred_train=model.predict(feature_test)\n",
    "prediction_keras_train= []\n",
    "\n",
    "for i in pred_train:\n",
    "    prediction_keras_train.append(np.argmax(i))\n",
    "reverse={0:\"A1\", 1:\"A2\", 2:\"B1\",3:\"B2\",4:\"C1\", 5:\"C2\"}\n",
    "reversed_list_train=[reverse[k] for k in prediction_keras_train]\n",
    "\n",
    "evaluate(y1_test, prediction_keras_train)\n",
    "score, matrix = get_score(y1_test, prediction_keras_train, \"Keras Sequential\")\n",
    "\n",
    "scores.append(score)\n",
    "matrixes.append(matrixes)"
   ]
  },
  {
   "cell_type": "markdown",
   "metadata": {
    "id": "z-8_3MK1rpZr"
   },
   "source": [
    "Now we can apply evertyhing onto the unlabelled dataset and create a .csv submission for kaggle."
   ]
  },
  {
   "cell_type": "code",
   "execution_count": 24,
   "metadata": {},
   "outputs": [
    {
     "name": "stdout",
     "output_type": "stream",
     "text": [
      "Feature 1 is done computing\n",
      "Feature 2 is done computing\n",
      "Feature 3 is done computing\n",
      "Feature 3 is done computing\n",
      "Features ready to be used\n"
     ]
    }
   ],
   "source": [
    "unlabelled = get_dataset.get_unlabelled_data()\n",
    "\n",
    "unlabelled_feature1=type_counter_unlabelled(data, unlabelled)\n",
    "print(\"Feature 1 is done computing\")\n",
    "unlabelled_feature2=vectorizer(unlabelled)\n",
    "print(\"Feature 2 is done computing\")\n",
    "unlabelled_feature3=word_len_counter(unlabelled)\n",
    "print(\"Feature 3 is done computing\")\n",
    "unlabelled_feature4=sk_vec_unlabelled(data,unlabelled)\n",
    "print(\"Feature 3 is done computing\")\n",
    "\n",
    "unlabelled_feature = np.concatenate((unlabelled_feature1, unlabelled_feature2),axis = 1)\n",
    "unlabelled_feature = np.concatenate((unlabelled_feature, unlabelled_feature3), axis = 1)\n",
    "unlabelled_feature = np.concatenate((unlabelled_feature, unlabelled_feature4), axis = 1)\n",
    "print(\"Features ready to be used\")"
   ]
  },
  {
   "cell_type": "code",
   "execution_count": 25,
   "metadata": {},
   "outputs": [
    {
     "name": "stdout",
     "output_type": "stream",
     "text": [
      "Model: \"sequential_1\"\n",
      "_________________________________________________________________\n",
      " Layer (type)                Output Shape              Param #   \n",
      "=================================================================\n",
      " dense_2 (Dense)             (None, 32)                2171264   \n",
      "                                                                 \n",
      " dropout_1 (Dropout)         (None, 32)                0         \n",
      "                                                                 \n",
      " dense_3 (Dense)             (None, 6)                 198       \n",
      "                                                                 \n",
      "=================================================================\n",
      "Total params: 2,171,462\n",
      "Trainable params: 2,171,462\n",
      "Non-trainable params: 0\n",
      "_________________________________________________________________\n",
      "None\n",
      "Epoch 1/75\n",
      "500/500 [==============================] - 4s 7ms/step - loss: 1.5509 - accuracy: 0.3243 - val_loss: 1.4326 - val_accuracy: 0.3542\n",
      "Epoch 2/75\n",
      "500/500 [==============================] - 4s 7ms/step - loss: 1.4442 - accuracy: 0.3800 - val_loss: 1.3792 - val_accuracy: 0.4167\n",
      "Epoch 3/75\n",
      "500/500 [==============================] - 3s 7ms/step - loss: 1.3756 - accuracy: 0.4075 - val_loss: 1.3643 - val_accuracy: 0.3542\n",
      "Epoch 4/75\n",
      "500/500 [==============================] - 4s 7ms/step - loss: 1.3366 - accuracy: 0.4141 - val_loss: 1.2894 - val_accuracy: 0.4375\n",
      "Epoch 5/75\n",
      "500/500 [==============================] - 4s 7ms/step - loss: 1.3143 - accuracy: 0.4161 - val_loss: 1.2748 - val_accuracy: 0.4792\n",
      "Epoch 6/75\n",
      "500/500 [==============================] - 4s 7ms/step - loss: 1.2834 - accuracy: 0.4363 - val_loss: 1.2518 - val_accuracy: 0.4167\n",
      "Epoch 7/75\n",
      "500/500 [==============================] - 4s 7ms/step - loss: 1.2597 - accuracy: 0.4521 - val_loss: 1.2366 - val_accuracy: 0.4583\n",
      "Epoch 8/75\n",
      "500/500 [==============================] - 4s 7ms/step - loss: 1.2230 - accuracy: 0.4617 - val_loss: 1.2104 - val_accuracy: 0.5000\n",
      "Epoch 9/75\n",
      "500/500 [==============================] - 4s 7ms/step - loss: 1.2141 - accuracy: 0.4690 - val_loss: 1.2004 - val_accuracy: 0.4167\n",
      "Epoch 10/75\n",
      "500/500 [==============================] - 4s 7ms/step - loss: 1.1800 - accuracy: 0.4948 - val_loss: 1.2222 - val_accuracy: 0.4167\n",
      "Epoch 11/75\n",
      "500/500 [==============================] - 4s 7ms/step - loss: 1.1458 - accuracy: 0.5120 - val_loss: 1.1902 - val_accuracy: 0.5417\n",
      "Epoch 12/75\n",
      "500/500 [==============================] - 4s 8ms/step - loss: 1.1418 - accuracy: 0.5058 - val_loss: 1.1948 - val_accuracy: 0.4375\n",
      "Epoch 13/75\n",
      "500/500 [==============================] - 4s 7ms/step - loss: 1.1064 - accuracy: 0.5284 - val_loss: 1.1680 - val_accuracy: 0.4792\n",
      "Epoch 14/75\n",
      "500/500 [==============================] - 4s 7ms/step - loss: 1.0883 - accuracy: 0.5371 - val_loss: 1.1565 - val_accuracy: 0.4792\n",
      "Epoch 15/75\n",
      "500/500 [==============================] - 4s 7ms/step - loss: 1.0730 - accuracy: 0.5381 - val_loss: 1.1597 - val_accuracy: 0.5625\n",
      "Epoch 16/75\n",
      "500/500 [==============================] - 4s 7ms/step - loss: 1.0540 - accuracy: 0.5557 - val_loss: 1.1431 - val_accuracy: 0.5000\n",
      "Epoch 17/75\n",
      "500/500 [==============================] - 4s 7ms/step - loss: 1.0503 - accuracy: 0.5571 - val_loss: 1.1493 - val_accuracy: 0.4583\n",
      "Epoch 18/75\n",
      "500/500 [==============================] - 4s 7ms/step - loss: 1.0175 - accuracy: 0.5737 - val_loss: 1.1455 - val_accuracy: 0.4375\n",
      "Epoch 19/75\n",
      "500/500 [==============================] - 4s 7ms/step - loss: 0.9854 - accuracy: 0.5847 - val_loss: 1.1726 - val_accuracy: 0.5208\n",
      "Epoch 20/75\n",
      "500/500 [==============================] - 4s 7ms/step - loss: 0.9669 - accuracy: 0.6136 - val_loss: 1.1386 - val_accuracy: 0.5417\n",
      "Epoch 21/75\n",
      "500/500 [==============================] - 4s 7ms/step - loss: 0.9534 - accuracy: 0.6058 - val_loss: 1.1544 - val_accuracy: 0.4792\n",
      "Epoch 22/75\n",
      "500/500 [==============================] - 4s 7ms/step - loss: 0.9350 - accuracy: 0.6178 - val_loss: 1.1671 - val_accuracy: 0.4583\n",
      "Epoch 23/75\n",
      "500/500 [==============================] - 4s 7ms/step - loss: 0.9107 - accuracy: 0.6320 - val_loss: 1.1443 - val_accuracy: 0.4792\n",
      "Epoch 24/75\n",
      "500/500 [==============================] - 4s 7ms/step - loss: 0.9021 - accuracy: 0.6308 - val_loss: 1.1583 - val_accuracy: 0.4167\n",
      "Epoch 25/75\n",
      "500/500 [==============================] - 4s 7ms/step - loss: 0.8739 - accuracy: 0.6508 - val_loss: 1.1313 - val_accuracy: 0.4583\n",
      "Epoch 26/75\n",
      "500/500 [==============================] - 4s 7ms/step - loss: 0.8378 - accuracy: 0.6747 - val_loss: 1.1373 - val_accuracy: 0.4583\n",
      "Epoch 27/75\n",
      "500/500 [==============================] - 4s 7ms/step - loss: 0.8324 - accuracy: 0.6685 - val_loss: 1.1545 - val_accuracy: 0.4792\n",
      "Epoch 28/75\n",
      "500/500 [==============================] - 4s 7ms/step - loss: 0.7905 - accuracy: 0.6877 - val_loss: 1.1222 - val_accuracy: 0.5208\n",
      "Epoch 29/75\n",
      "500/500 [==============================] - 4s 7ms/step - loss: 0.8034 - accuracy: 0.6889 - val_loss: 1.1643 - val_accuracy: 0.4583\n",
      "Epoch 30/75\n",
      "500/500 [==============================] - 4s 7ms/step - loss: 0.7686 - accuracy: 0.6899 - val_loss: 1.1616 - val_accuracy: 0.5208\n",
      "Epoch 31/75\n",
      "500/500 [==============================] - 4s 7ms/step - loss: 0.7652 - accuracy: 0.6951 - val_loss: 1.1900 - val_accuracy: 0.5000\n",
      "Epoch 32/75\n",
      "500/500 [==============================] - 4s 7ms/step - loss: 0.7290 - accuracy: 0.7169 - val_loss: 1.1891 - val_accuracy: 0.4375\n",
      "Epoch 33/75\n",
      "500/500 [==============================] - 4s 7ms/step - loss: 0.7134 - accuracy: 0.7228 - val_loss: 1.1825 - val_accuracy: 0.4375\n",
      "Epoch 34/75\n",
      "500/500 [==============================] - 4s 7ms/step - loss: 0.6956 - accuracy: 0.7352 - val_loss: 1.1674 - val_accuracy: 0.5000\n",
      "Epoch 35/75\n",
      "500/500 [==============================] - 4s 7ms/step - loss: 0.6686 - accuracy: 0.7484 - val_loss: 1.1476 - val_accuracy: 0.5208\n",
      "Epoch 36/75\n",
      "500/500 [==============================] - 4s 7ms/step - loss: 0.6558 - accuracy: 0.7524 - val_loss: 1.1578 - val_accuracy: 0.5417\n",
      "Epoch 37/75\n",
      "500/500 [==============================] - 4s 7ms/step - loss: 0.6517 - accuracy: 0.7478 - val_loss: 1.1112 - val_accuracy: 0.5000\n",
      "Epoch 38/75\n",
      "500/500 [==============================] - 4s 7ms/step - loss: 0.6296 - accuracy: 0.7600 - val_loss: 1.2341 - val_accuracy: 0.5000\n",
      "Epoch 39/75\n",
      "500/500 [==============================] - 4s 7ms/step - loss: 0.6028 - accuracy: 0.7776 - val_loss: 1.1870 - val_accuracy: 0.4792\n",
      "Epoch 40/75\n",
      "500/500 [==============================] - 4s 7ms/step - loss: 0.5934 - accuracy: 0.7681 - val_loss: 1.1894 - val_accuracy: 0.4792\n",
      "Epoch 41/75\n",
      "500/500 [==============================] - 4s 7ms/step - loss: 0.5684 - accuracy: 0.7849 - val_loss: 1.2062 - val_accuracy: 0.5208\n",
      "Epoch 42/75\n",
      "500/500 [==============================] - 4s 7ms/step - loss: 0.5633 - accuracy: 0.7847 - val_loss: 1.2163 - val_accuracy: 0.5208\n",
      "Epoch 43/75\n",
      "500/500 [==============================] - 4s 7ms/step - loss: 0.5361 - accuracy: 0.8043 - val_loss: 1.2015 - val_accuracy: 0.4792\n",
      "Epoch 44/75\n",
      "500/500 [==============================] - 4s 7ms/step - loss: 0.5236 - accuracy: 0.8079 - val_loss: 1.2127 - val_accuracy: 0.5208\n",
      "Epoch 45/75\n",
      "500/500 [==============================] - 4s 7ms/step - loss: 0.5244 - accuracy: 0.8031 - val_loss: 1.2231 - val_accuracy: 0.4792\n",
      "Epoch 46/75\n",
      "500/500 [==============================] - 4s 7ms/step - loss: 0.5069 - accuracy: 0.8127 - val_loss: 1.2650 - val_accuracy: 0.5833\n",
      "Epoch 47/75\n",
      "500/500 [==============================] - 4s 7ms/step - loss: 0.4917 - accuracy: 0.8191 - val_loss: 1.2954 - val_accuracy: 0.3958\n",
      "Epoch 48/75\n",
      "500/500 [==============================] - 4s 7ms/step - loss: 0.4885 - accuracy: 0.8217 - val_loss: 1.3134 - val_accuracy: 0.3958\n",
      "Epoch 49/75\n",
      "500/500 [==============================] - 4s 7ms/step - loss: 0.4813 - accuracy: 0.8161 - val_loss: 1.2744 - val_accuracy: 0.4375\n",
      "Epoch 50/75\n",
      "500/500 [==============================] - 4s 7ms/step - loss: 0.4608 - accuracy: 0.8341 - val_loss: 1.2659 - val_accuracy: 0.4583\n",
      "Epoch 51/75\n",
      "500/500 [==============================] - 4s 7ms/step - loss: 0.4529 - accuracy: 0.8323 - val_loss: 1.2632 - val_accuracy: 0.5417\n",
      "Epoch 52/75\n",
      "500/500 [==============================] - 4s 7ms/step - loss: 0.4333 - accuracy: 0.8427 - val_loss: 1.4072 - val_accuracy: 0.5000\n",
      "Epoch 53/75\n",
      "500/500 [==============================] - 4s 7ms/step - loss: 0.4310 - accuracy: 0.8435 - val_loss: 1.3013 - val_accuracy: 0.4792\n",
      "Epoch 54/75\n",
      "500/500 [==============================] - 4s 7ms/step - loss: 0.4133 - accuracy: 0.8498 - val_loss: 1.3525 - val_accuracy: 0.4583\n",
      "Epoch 55/75\n",
      "500/500 [==============================] - 4s 7ms/step - loss: 0.4088 - accuracy: 0.8498 - val_loss: 1.3284 - val_accuracy: 0.4792\n",
      "Epoch 56/75\n",
      "500/500 [==============================] - 4s 7ms/step - loss: 0.3972 - accuracy: 0.8606 - val_loss: 1.4026 - val_accuracy: 0.4375\n",
      "Epoch 57/75\n",
      "500/500 [==============================] - 4s 7ms/step - loss: 0.3857 - accuracy: 0.8562 - val_loss: 1.3659 - val_accuracy: 0.4792\n",
      "Epoch 58/75\n",
      "500/500 [==============================] - 4s 7ms/step - loss: 0.3805 - accuracy: 0.8670 - val_loss: 1.4331 - val_accuracy: 0.4375\n",
      "Epoch 59/75\n",
      "500/500 [==============================] - 4s 7ms/step - loss: 0.3662 - accuracy: 0.8712 - val_loss: 1.3895 - val_accuracy: 0.5000\n",
      "Epoch 60/75\n",
      "500/500 [==============================] - 4s 7ms/step - loss: 0.3618 - accuracy: 0.8706 - val_loss: 1.3768 - val_accuracy: 0.4583\n",
      "Epoch 61/75\n",
      "500/500 [==============================] - 4s 7ms/step - loss: 0.3586 - accuracy: 0.8692 - val_loss: 1.3685 - val_accuracy: 0.4792\n",
      "Epoch 62/75\n",
      "500/500 [==============================] - 4s 7ms/step - loss: 0.3539 - accuracy: 0.8740 - val_loss: 1.4823 - val_accuracy: 0.5000\n",
      "Epoch 63/75\n",
      "500/500 [==============================] - 4s 7ms/step - loss: 0.3509 - accuracy: 0.8766 - val_loss: 1.5873 - val_accuracy: 0.4583\n",
      "Epoch 64/75\n",
      "500/500 [==============================] - 4s 7ms/step - loss: 0.3334 - accuracy: 0.8822 - val_loss: 1.4487 - val_accuracy: 0.5000\n",
      "Epoch 65/75\n",
      "500/500 [==============================] - 4s 7ms/step - loss: 0.3301 - accuracy: 0.8836 - val_loss: 1.5296 - val_accuracy: 0.4792\n",
      "Epoch 66/75\n",
      "500/500 [==============================] - 4s 7ms/step - loss: 0.3240 - accuracy: 0.8864 - val_loss: 1.4995 - val_accuracy: 0.4583\n",
      "Epoch 67/75\n",
      "500/500 [==============================] - 4s 7ms/step - loss: 0.3154 - accuracy: 0.8860 - val_loss: 1.5045 - val_accuracy: 0.5000\n",
      "Epoch 68/75\n",
      "500/500 [==============================] - 4s 7ms/step - loss: 0.3152 - accuracy: 0.8864 - val_loss: 1.5372 - val_accuracy: 0.5000\n",
      "Epoch 69/75\n",
      "500/500 [==============================] - 4s 7ms/step - loss: 0.2989 - accuracy: 0.8974 - val_loss: 1.4719 - val_accuracy: 0.4375\n",
      "Epoch 70/75\n",
      "500/500 [==============================] - 4s 7ms/step - loss: 0.2954 - accuracy: 0.8960 - val_loss: 1.5464 - val_accuracy: 0.4167\n",
      "Epoch 71/75\n",
      "500/500 [==============================] - 4s 7ms/step - loss: 0.3028 - accuracy: 0.8902 - val_loss: 1.5179 - val_accuracy: 0.4167\n",
      "Epoch 72/75\n",
      "197/500 [==========>...................] - ETA: 2s - loss: 0.2838 - accuracy: 0.8929WARNING:tensorflow:Your input ran out of data; interrupting training. Make sure that your dataset or generator can generate at least `steps_per_epoch * epochs` batches (in this case, 37500 batches). You may need to use the repeat() function when building your dataset.\n",
      "500/500 [==============================] - 1s 3ms/step - loss: 0.2833 - accuracy: 0.8936 - val_loss: 1.6490 - val_accuracy: 0.4792\n"
     ]
    },
    {
     "data": {
      "text/plain": [
       "<keras.callbacks.History at 0x1e954e67df0>"
      ]
     },
     "execution_count": 25,
     "metadata": {},
     "output_type": "execute_result"
    }
   ],
   "source": [
    "model = keras.Sequential([\n",
    "    keras.layers.Dense(input_shape = feature[0].shape, units=32, activation='relu'),\n",
    "    keras.layers.Dropout(0.5),\n",
    "    keras.layers.Dense(units=6, activation='softmax'),\n",
    "\n",
    " \n",
    "])\n",
    "print(model.summary())\n",
    "model.compile(optimizer='adamax', \n",
    "              loss=tf.losses.CategoricalCrossentropy(),\n",
    "              metrics=['accuracy'])\n",
    "model.fit(np.asarray(feature), np.asarray(y2), epochs = 75, steps_per_epoch = 500, validation_split=0.01)"
   ]
  },
  {
   "cell_type": "code",
   "execution_count": 26,
   "metadata": {},
   "outputs": [
    {
     "name": "stdout",
     "output_type": "stream",
     "text": [
      "['C2', 'B1', 'A1', 'A1', 'C2', 'C2', 'A2', 'A2', 'C2', 'A1', 'A1', 'A2', 'B2', 'C1', 'A1', 'A2', 'C1', 'A1', 'B1', 'A1', 'C2', 'A1', 'A2', 'C2', 'B2', 'C2', 'A1', 'A1', 'C2', 'A2', 'A1', 'A2', 'A2', 'A1', 'A2', 'B1', 'C1', 'B2', 'A1', 'A1', 'A2', 'B2', 'C2', 'C1', 'C2', 'C2', 'B2', 'C2', 'A1', 'A1', 'C1', 'A1', 'C1', 'A1', 'A1', 'B2', 'C1', 'A2', 'B2', 'B1', 'B2', 'A2', 'C2', 'C1', 'C2', 'B2', 'B1', 'A2', 'B2', 'C2', 'A1', 'C1', 'B2', 'B1', 'C1', 'A2', 'B2', 'C1', 'A2', 'B2', 'A2', 'A1', 'C2', 'B1', 'A1', 'C2', 'B1', 'C2', 'C2', 'B1', 'C2', 'A2', 'C1', 'C2', 'B1', 'A2', 'A1', 'A2', 'B1', 'C2', 'B1', 'C1', 'A1', 'A2', 'C2', 'C2', 'B2', 'A1', 'A2', 'C1', 'B2', 'A1', 'C1', 'B2', 'C2', 'A2', 'C1', 'A2', 'A2', 'B2', 'A1', 'B1', 'C2', 'C2', 'A2', 'C2', 'C2', 'C2', 'C1', 'C1', 'A1', 'A2', 'C1', 'C2', 'B2', 'C2', 'A2', 'C2', 'B1', 'A2', 'A1', 'C2', 'C2', 'C2', 'C1', 'C1', 'A1', 'C2', 'C2', 'B1', 'B2', 'B1', 'A1', 'A2', 'A2', 'C2', 'C1', 'A1', 'A1', 'A2', 'A2', 'A1', 'B1', 'B2', 'C2', 'C2', 'A1', 'A2', 'B1', 'B2', 'A2', 'C2', 'A1', 'A2', 'B1', 'C1', 'C1', 'C1', 'B1', 'C2', 'A2', 'C2', 'B2', 'A2', 'B2', 'A1', 'A2', 'B1', 'C2', 'C2', 'A1', 'B2', 'C1', 'B1', 'B1', 'A2', 'C2', 'B1', 'C2', 'B2', 'B2', 'C1', 'A1', 'A1', 'C1', 'A2', 'A2', 'A1', 'A1', 'A1', 'B1', 'A1', 'A2', 'C1', 'B1', 'C1', 'B2', 'C1', 'A2', 'B1', 'B2', 'C2', 'A1', 'C2', 'A1', 'C1', 'A2', 'B1', 'A2', 'A1', 'C1', 'C2', 'C2', 'A1', 'B1', 'C1', 'C1', 'B1', 'C2', 'C2', 'B1', 'B1', 'A1', 'A2', 'B2', 'A2', 'B1', 'C1', 'A2', 'B2', 'B1', 'B1', 'A1', 'B2', 'C2', 'C2', 'A2', 'A1', 'A1', 'C2', 'A1', 'B1', 'A1', 'C2', 'C1', 'C2', 'B1', 'A2', 'C1', 'C2', 'C2', 'A2', 'A2', 'C1', 'A1', 'C1', 'B2', 'C2', 'C2', 'B2', 'A1', 'C2', 'C2', 'A2', 'A2', 'C2', 'B2', 'C2', 'C1', 'C2', 'C1', 'C2', 'B1', 'B2', 'C2', 'C2', 'B2', 'C2', 'A1', 'A1', 'B1', 'A1', 'C1', 'A1', 'C1', 'A1', 'B2', 'C2', 'C2', 'B1', 'C2', 'B2', 'B2', 'C2', 'C2', 'C2', 'A1', 'C2', 'B1', 'A1', 'C2', 'A1', 'C1', 'C2', 'A1', 'A1', 'C2', 'C1', 'A2', 'C2', 'C1', 'A2', 'A1', 'B2', 'A2', 'B2', 'A2', 'A1', 'C2', 'C2', 'B2', 'A1', 'C2', 'B1', 'C2', 'A2', 'A1', 'C2', 'A2', 'B1', 'C1', 'C2', 'C1', 'C2', 'B2', 'C2', 'B1', 'A2', 'C2', 'C1', 'A2', 'C2', 'C1', 'B1', 'B2', 'C2', 'A2', 'B1', 'B1', 'C2', 'C2', 'A1', 'C2', 'A1', 'C2', 'B1', 'A1', 'B1', 'A2', 'A2', 'A2', 'A1', 'C2', 'A1', 'B2', 'C2', 'C2', 'A1', 'C2', 'B1', 'C2', 'B1', 'A1', 'C2', 'C2', 'C2', 'A2', 'B1', 'B1', 'A1', 'B2', 'A1', 'A1', 'B2', 'A2', 'C2', 'B2', 'A1', 'A1', 'C2', 'B2', 'B2', 'C2', 'C2', 'B2', 'B2', 'C2', 'B2', 'B1', 'A2', 'A1', 'C2', 'B2', 'A1', 'B1', 'C2', 'A2', 'C2', 'A1', 'A2', 'A1', 'A1', 'B2', 'C1', 'A1', 'A1', 'C2', 'C2', 'A1', 'A1', 'B1', 'B1', 'C2', 'B2', 'B1', 'A1', 'B1', 'A2', 'B2', 'B1', 'C2', 'A1', 'A1', 'A2', 'B1', 'A1', 'C2', 'B2', 'B1', 'C2', 'B1', 'B1', 'C2', 'A2', 'A2', 'C2', 'B1', 'A1', 'B2', 'A1', 'A1', 'A1', 'B1', 'A2', 'C2', 'B2', 'B2', 'C1', 'A2', 'B2', 'B2', 'A2', 'A1', 'C1', 'C2', 'C2', 'B1', 'A1', 'C2', 'C2', 'B2', 'A2', 'A1', 'B1', 'C2', 'A1', 'C2', 'C1', 'C2', 'C1', 'B1', 'C1', 'A1', 'C1', 'C2', 'B2', 'A1', 'B2', 'B2', 'A2', 'B2', 'C1', 'B1', 'C1', 'B1', 'C2', 'A2', 'A1', 'B2', 'B2', 'C2', 'B2', 'A2', 'B1', 'A1', 'B1', 'C1', 'B2', 'B1', 'C1', 'C2', 'C2', 'C2', 'C1', 'C2', 'C2', 'A1', 'A1', 'C1', 'B1', 'B1', 'A1', 'A1', 'A1', 'A1', 'C2', 'A1', 'A2', 'B2', 'B1', 'B1', 'A2', 'B1', 'C2', 'B2', 'B2', 'B1', 'C1', 'A2', 'C2', 'B2', 'B1', 'C1', 'A2', 'B2', 'B2', 'A2', 'C1', 'C2', 'B1', 'C2', 'C2', 'B2', 'A1', 'B2', 'A2', 'C2', 'B2', 'A2', 'C2', 'B1', 'A2', 'C2', 'A1', 'B2', 'A2', 'B2', 'B2', 'B1', 'A1', 'A1', 'A1', 'B1', 'A2', 'A1', 'C2', 'B1', 'A2', 'B2', 'B2', 'B1', 'A2', 'A2', 'A1', 'C2', 'C2', 'A1', 'B1', 'A1', 'A2', 'C2', 'B1', 'C2', 'B2', 'B1', 'C1', 'B1', 'B2', 'B1', 'C2', 'C2', 'A2', 'A2', 'A2', 'B2', 'A2', 'A2', 'B1', 'C2', 'A1', 'B1', 'C1', 'B1', 'A1', 'C2', 'A1', 'B1', 'C2', 'B1', 'A1', 'C2', 'A1', 'C2', 'A2', 'B2', 'C2', 'B1', 'A2', 'C2', 'B2', 'A2', 'A2', 'C1', 'B2', 'B2', 'C2', 'A1', 'C2', 'B2', 'B2', 'C2', 'A2', 'A1', 'A2', 'B1', 'A2', 'C2', 'C2', 'B1', 'C2', 'C2', 'B1', 'B1', 'A2', 'A1', 'A1', 'B1', 'B1', 'C2', 'A1', 'C2', 'B2', 'C2', 'C2', 'A2', 'B1', 'A1', 'B2', 'C2', 'B2', 'A2', 'A2', 'C2', 'A2', 'C2', 'B1', 'A1', 'C2', 'A2', 'B1', 'A1', 'C2', 'A1', 'C2', 'B2', 'A1', 'C2', 'A2', 'A2', 'B2', 'C1', 'A2', 'B2', 'C2', 'A1', 'A1', 'C2', 'B1', 'A2', 'A2', 'C1', 'B1', 'C2', 'C2', 'B2', 'C2', 'C2', 'B2', 'C2', 'C2', 'B1', 'B1', 'C2', 'A1', 'C2', 'B2', 'C1', 'B2', 'C2', 'A2', 'C2', 'C1', 'A2', 'A2', 'C1', 'C1', 'A1', 'C2', 'A2', 'B1', 'C1', 'C2', 'B1', 'B1', 'A2', 'C2', 'B2', 'C1', 'B2', 'C1', 'A2', 'A1', 'B1', 'B1', 'A2', 'C2', 'C1', 'A2', 'A1', 'C2', 'B1', 'B2', 'C2', 'C2', 'C2', 'B2', 'A2', 'C2', 'C1', 'A1', 'B2', 'C2', 'C2', 'C1', 'C2', 'C2', 'C2', 'C1', 'B1', 'A2', 'A1', 'A2', 'A2', 'B1', 'C2', 'A2', 'C2', 'B1', 'A2', 'C1', 'A1', 'B1', 'A2', 'C2', 'B2', 'C2', 'C2', 'A2', 'B1', 'A1', 'C2', 'B1', 'A2', 'A1', 'C1', 'A2', 'A1', 'C2', 'B2', 'C2', 'C1', 'C2', 'C2', 'A2', 'B1', 'B2', 'B2', 'C2', 'C2', 'B1', 'B1', 'C1', 'B1', 'A2', 'B1', 'C2', 'B2', 'C2', 'A1', 'A1', 'A1', 'A1', 'B2', 'C1', 'B2', 'A1', 'A1', 'B1', 'B2', 'B2', 'B2', 'B2', 'A2', 'C2', 'C2', 'C1', 'B1', 'A2', 'A1', 'C2', 'A1', 'A2', 'A2', 'C2', 'A2', 'B2', 'C2', 'C2', 'B1', 'A2', 'A1', 'B1', 'C1', 'C2', 'B1', 'A2', 'A1', 'C1', 'C2', 'C1', 'C1', 'C2', 'B1', 'C1', 'C2', 'C2', 'C2', 'A1', 'C1', 'A1', 'A2', 'C1', 'A1', 'C2', 'C2', 'B2', 'B1', 'B2', 'B2', 'B1', 'B1', 'C2', 'C1', 'C1', 'C1', 'A1', 'A2', 'C2', 'A1', 'A1', 'A1', 'A2', 'B1', 'C1', 'B2', 'C2', 'B1', 'B1', 'C1', 'C2', 'A2', 'C2', 'B1', 'C1', 'C2', 'A1', 'C2', 'A1', 'A1', 'A1', 'B1', 'B2', 'C1', 'B2', 'C1', 'B1', 'B2', 'A1', 'B1', 'C2', 'B2', 'C1', 'B2', 'C2', 'B2', 'C2', 'A2', 'C2', 'C1', 'B2', 'A2', 'C2', 'B2', 'B1', 'C1', 'A1', 'A2', 'B2', 'B2', 'C2', 'A2', 'B1', 'B2', 'C2', 'B2', 'C2', 'A1', 'C2', 'A2', 'C1', 'A2', 'C2', 'A2', 'A1', 'A2', 'B1', 'C2', 'A2', 'C2', 'C2', 'B2', 'C2', 'B1', 'B1', 'B1', 'A2', 'C2', 'B1', 'C2', 'B1', 'A2', 'A1', 'C2', 'C2', 'B1', 'C1', 'C1', 'B2', 'A2', 'A2', 'C2', 'C2', 'C1', 'A1', 'C1', 'B2', 'A1', 'A2', 'C2', 'C1', 'C2', 'C2', 'A1', 'B2', 'C2', 'C2', 'B1', 'B1', 'A1', 'A1', 'C2', 'A1', 'A1', 'A2', 'A2', 'A2', 'B1', 'B2', 'A1', 'A2', 'A2', 'C2', 'A2', 'B2', 'C2', 'C1', 'C2', 'A1', 'B1', 'C2', 'A2', 'C1', 'A2', 'A2', 'B2', 'C1', 'B2', 'A1', 'C2', 'A2', 'C2', 'A1', 'B1', 'C2', 'A1', 'C1', 'C1', 'C1', 'C2', 'C2', 'B1', 'C2', 'B1', 'C1', 'B2', 'A1', 'B1', 'A2', 'B2', 'B1', 'C1', 'A2', 'C2', 'C2', 'C2', 'C2', 'A2', 'A1', 'C2', 'A1', 'A2', 'A1', 'A2', 'B2', 'C1', 'C2', 'A1', 'C2', 'A1', 'A2', 'C2', 'A2', 'C2', 'C2', 'B2', 'B1', 'A1', 'C2', 'A1', 'A1', 'A1', 'A1', 'C2', 'A1', 'C2', 'B2', 'B2', 'A2', 'B2', 'A1', 'C2', 'A1', 'B2', 'B1', 'B1', 'C1', 'C2', 'A2', 'B2', 'A1', 'A1', 'B2', 'C2', 'A2', 'A2', 'A2', 'C2', 'B1', 'A2', 'C1', 'A1', 'C2', 'B2', 'A2', 'B1', 'A1', 'C2', 'B1', 'B1', 'B1', 'C2', 'C1', 'A2', 'C1', 'C2', 'A1', 'B2', 'B1', 'B2', 'C2', 'C2', 'A2', 'A1', 'B2', 'C1', 'B1', 'C2', 'A1', 'C2', 'B1', 'B2', 'C1', 'A2', 'B2', 'C2', 'C2', 'C1', 'A2', 'C2', 'C2', 'A1', 'B1', 'B2', 'B2', 'C1', 'B2', 'A1', 'B1', 'A2', 'A1', 'C1', 'B1', 'A1', 'B1', 'C2', 'A2', 'C2', 'A2', 'C2', 'B1', 'B1', 'C1', 'A1', 'A1', 'A1', 'B1', 'A1', 'C2', 'A1', 'B2']\n"
     ]
    }
   ],
   "source": [
    "\n",
    "pred=model.predict(unlabelled_feature)\n",
    "prediction_keras= []\n",
    "for i in pred:\n",
    "    prediction_keras.append(np.argmax(i))\n",
    "\n",
    "\n",
    "reverse={0:\"A1\", 1:\"A2\", 2:\"B1\",3:\"B2\",4:\"C1\", 5:\"C2\"}\n",
    "\n",
    "reversed_list=[reverse[k] for k in prediction_keras]\n",
    "print(reversed_list)\n"
   ]
  },
  {
   "cell_type": "code",
   "execution_count": 29,
   "metadata": {},
   "outputs": [],
   "source": [
    "keras_submission = pd.DataFrame()\n",
    "keras_submission[\"difficulty\"]=reversed_list\n",
    "keras_submission=keras_submission.rename_axis(\"id\", inplace=False)\n",
    "\n",
    "keras_submission.to_csv('keras_submission.csv')\n"
   ]
  },
  {
   "cell_type": "markdown",
   "metadata": {
    "id": "82FvnJycsBFf"
   },
   "source": [
    "#### 4.7. Show a summary of your results"
   ]
  },
  {
   "cell_type": "markdown",
   "metadata": {
    "id": "82FvnJycsBFf"
   },
   "source": [
    "Here is the aggregated table for the classifiers results (also available on GitHub). Our classifier is by far the best of all the classifiers we tried.\n",
    "\n",
    "## The final Kaagle submission score was 5.6250"
   ]
  },
  {
   "cell_type": "code",
   "execution_count": 28,
   "metadata": {},
   "outputs": [
    {
     "data": {
      "text/html": [
       "<div>\n",
       "<style scoped>\n",
       "    .dataframe tbody tr th:only-of-type {\n",
       "        vertical-align: middle;\n",
       "    }\n",
       "\n",
       "    .dataframe tbody tr th {\n",
       "        vertical-align: top;\n",
       "    }\n",
       "\n",
       "    .dataframe thead th {\n",
       "        text-align: right;\n",
       "    }\n",
       "</style>\n",
       "<table border=\"1\" class=\"dataframe\">\n",
       "  <thead>\n",
       "    <tr style=\"text-align: right;\">\n",
       "      <th></th>\n",
       "      <th>Precision</th>\n",
       "      <th>Recall</th>\n",
       "      <th>F1- score</th>\n",
       "      <th>Accuracy</th>\n",
       "    </tr>\n",
       "    <tr>\n",
       "      <th>Classifier</th>\n",
       "      <th></th>\n",
       "      <th></th>\n",
       "      <th></th>\n",
       "      <th></th>\n",
       "    </tr>\n",
       "  </thead>\n",
       "  <tbody>\n",
       "    <tr>\n",
       "      <th>Logisitc Regression</th>\n",
       "      <td>0.464496</td>\n",
       "      <td>0.467678</td>\n",
       "      <td>0.464014</td>\n",
       "      <td>0.466667</td>\n",
       "    </tr>\n",
       "    <tr>\n",
       "      <th>KNN</th>\n",
       "      <td>0.419700</td>\n",
       "      <td>0.354327</td>\n",
       "      <td>0.345031</td>\n",
       "      <td>0.354167</td>\n",
       "    </tr>\n",
       "    <tr>\n",
       "      <th>Decision Tree</th>\n",
       "      <td>0.312084</td>\n",
       "      <td>0.313016</td>\n",
       "      <td>0.309467</td>\n",
       "      <td>0.312500</td>\n",
       "    </tr>\n",
       "    <tr>\n",
       "      <th>Random Forest</th>\n",
       "      <td>0.432717</td>\n",
       "      <td>0.428427</td>\n",
       "      <td>0.414716</td>\n",
       "      <td>0.426042</td>\n",
       "    </tr>\n",
       "    <tr>\n",
       "      <th>Keras Sequential</th>\n",
       "      <td>0.514736</td>\n",
       "      <td>0.512527</td>\n",
       "      <td>0.506443</td>\n",
       "      <td>0.507500</td>\n",
       "    </tr>\n",
       "  </tbody>\n",
       "</table>\n",
       "</div>"
      ],
      "text/plain": [
       "                     Precision    Recall  F1- score  Accuracy\n",
       "Classifier                                                   \n",
       "Logisitc Regression   0.464496  0.467678   0.464014  0.466667\n",
       "KNN                   0.419700  0.354327   0.345031  0.354167\n",
       "Decision Tree         0.312084  0.313016   0.309467  0.312500\n",
       "Random Forest         0.432717  0.428427   0.414716  0.426042\n",
       "Keras Sequential      0.514736  0.512527   0.506443  0.507500"
      ]
     },
     "execution_count": 28,
     "metadata": {},
     "output_type": "execute_result"
    }
   ],
   "source": [
    "table = pd.DataFrame(scores, columns=[\"Classifier\", \"Precision\", \"Recall\", \"F1- score\", \"Accuracy\"])\n",
    "table=table.set_index('Classifier')\n",
    "table.head()"
   ]
  },
  {
   "cell_type": "code",
   "execution_count": 4,
   "metadata": {},
   "outputs": [
    {
     "data": {
      "text/html": [
       "\n",
       "        <iframe\n",
       "            width=\"400\"\n",
       "            height=\"300\"\n",
       "            src=\"https://www.youtube.com/embed/lFMVf7B4Zbo\"\n",
       "            frameborder=\"0\"\n",
       "            allowfullscreen\n",
       "            \n",
       "        ></iframe>\n",
       "        "
      ],
      "text/plain": [
       "<IPython.lib.display.YouTubeVideo at 0x253bfc8cdc0>"
      ]
     },
     "execution_count": 4,
     "metadata": {},
     "output_type": "execute_result"
    }
   ],
   "source": [
    "YouTubeVideo('lFMVf7B4Zbo')"
   ]
  },
  {
   "cell_type": "code",
   "execution_count": null,
   "metadata": {},
   "outputs": [],
   "source": []
  }
 ],
 "metadata": {
  "colab": {
   "name": "Copie de Project_guidelines_2021.ipynb",
   "provenance": []
  },
  "kernelspec": {
   "display_name": "Python 3 (ipykernel)",
   "language": "python",
   "name": "python3"
  },
  "language_info": {
   "codemirror_mode": {
    "name": "ipython",
    "version": 3
   },
   "file_extension": ".py",
   "mimetype": "text/x-python",
   "name": "python",
   "nbconvert_exporter": "python",
   "pygments_lexer": "ipython3",
   "version": "3.9.9"
  }
 },
 "nbformat": 4,
 "nbformat_minor": 1
}
